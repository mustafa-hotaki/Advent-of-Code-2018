{
  "nbformat": 4,
  "nbformat_minor": 0,
  "metadata": {
    "colab": {
      "name": "Day9.ipynb",
      "provenance": [],
      "collapsed_sections": [],
      "toc_visible": true
    },
    "kernelspec": {
      "name": "python3",
      "display_name": "Python 3"
    }
  },
  "cells": [
    {
      "cell_type": "markdown",
      "metadata": {
        "id": "Pcti5h5XqWtG"
      },
      "source": [
        "# Advent of Code 2018 - Day 9"
      ]
    },
    {
      "cell_type": "code",
      "metadata": {
        "id": "KVgfAqLMqWz7",
        "colab": {
          "base_uri": "https://localhost:8080/"
        },
        "outputId": "9088d06a-a49b-4971-fff8-5145a058e590"
      },
      "source": [
        "data = []\r\n",
        "with open('inputs_day_9.txt', 'r') as f:\r\n",
        "  for line in f:\r\n",
        "    data.append(line.strip())\r\n",
        "\r\n",
        "data"
      ],
      "execution_count": 1,
      "outputs": [
        {
          "output_type": "execute_result",
          "data": {
            "text/plain": [
              "['448 players; last marble is worth 71628 points']"
            ]
          },
          "metadata": {
            "tags": []
          },
          "execution_count": 1
        }
      ]
    },
    {
      "cell_type": "code",
      "metadata": {
        "id": "5SNomrun0gUT"
      },
      "source": [
        "# Parse, easier to just read off\r\n",
        "num_players = 448\r\n",
        "last_marble_value = 71628\r\n",
        "#num_players = 9\r\n",
        "#last_marble_value = 26"
      ],
      "execution_count": 2,
      "outputs": []
    },
    {
      "cell_type": "markdown",
      "metadata": {
        "id": "mrUov17BSSZ_"
      },
      "source": [
        "## Part 1 and 2\r\n",
        "\r\n",
        "This calls for using a doubly circular linked list data structure, on first glance."
      ]
    },
    {
      "cell_type": "code",
      "metadata": {
        "id": "60TueYEu0osz"
      },
      "source": [
        "class Node:\r\n",
        "  def __init__(self, val):\r\n",
        "    self.val = val\r\n",
        "    self.prev = None\r\n",
        "    self.next = None\r\n"
      ],
      "execution_count": 3,
      "outputs": []
    },
    {
      "cell_type": "code",
      "metadata": {
        "colab": {
          "base_uri": "https://localhost:8080/"
        },
        "id": "gKTD6lY-66Xa",
        "outputId": "346c6f52-ef92-4b47-b2b5-01159a5bb4e0"
      },
      "source": [
        "def insert_after_in_circular_linked_list(x, val):\r\n",
        "    \r\n",
        "  # Insert into list\r\n",
        "  new = Node(val)\r\n",
        "\r\n",
        "  # Add new node\r\n",
        "  new.next = x.next\r\n",
        "  new.prev = x\r\n",
        "\r\n",
        "  # Replace this node's reference to its next to new node\r\n",
        "  x.next = new\r\n",
        "\r\n",
        "  # Replace the original next's prev to new\r\n",
        "  new.next.prev = new # new.next.prev is the original next\r\n",
        "\r\n",
        "  return new\r\n",
        "\r\n",
        "zero = Node(0)\r\n",
        "zero.prev = zero\r\n",
        "zero.next = zero\r\n",
        "\r\n",
        "#a = insert_after_in_circular_linked_list(zero, 1)\r\n",
        "insert_after_in_circular_linked_list(zero, 1)\r\n",
        "a = zero.next\r\n",
        "print(a.val)"
      ],
      "execution_count": 4,
      "outputs": [
        {
          "output_type": "stream",
          "text": [
            "1\n"
          ],
          "name": "stdout"
        }
      ]
    },
    {
      "cell_type": "code",
      "metadata": {
        "id": "wUsz4X6iK6LG"
      },
      "source": [
        "# Will fail for linked list of size 1\r\n",
        "def remove_from_circular_linked_list(x):\r\n",
        "  x_prev = x.prev\r\n",
        "  x_next = x.next\r\n",
        "\r\n",
        "  x_prev.next = x.next\r\n",
        "  x_next.prev = x_prev\r\n",
        "\r\n",
        "  # state machine should remove node\r\n",
        "  "
      ],
      "execution_count": 5,
      "outputs": []
    },
    {
      "cell_type": "code",
      "metadata": {
        "id": "PAO0EeQ9_SN_"
      },
      "source": [
        "def print_ciruclar_linked_list(x, highlight = None):\r\n",
        "\r\n",
        "  current = x\r\n",
        "  while(True):\r\n",
        "    if current.val == highlight:\r\n",
        "      print('(' + str(current.val) + ')', end = ' ')\r\n",
        "    else:\r\n",
        "      print(current.val, end = ' ')\r\n",
        "    current = current.next\r\n",
        "    if current == x:\r\n",
        "      break\r\n",
        "  print()\r\n"
      ],
      "execution_count": 6,
      "outputs": []
    },
    {
      "cell_type": "code",
      "metadata": {
        "id": "0AV8g6ZL1C7T"
      },
      "source": [
        "# Doubly circlar linked list with an initial element of just 0\r\n",
        "zero = Node(0)\r\n",
        "zero.prev = zero\r\n",
        "zero.next = zero\r\n",
        "\r\n",
        "# Current marble starts at 0\r\n",
        "current = zero\r\n",
        "\r\n",
        "socre_board = {p : 0 for p in range(num_players)}\r\n",
        "\r\n",
        "player = 0\r\n",
        "\r\n",
        "for marble in range(1, last_marble_value * 100): # Change to switch between Part 1 and 2\r\n",
        "\r\n",
        "  if marble % 23 == 0:\r\n",
        "    socre_board[player] += marble\r\n",
        "\r\n",
        "    for i in range(6):\r\n",
        "      current = current.prev\r\n",
        "\r\n",
        "    to_remove = current.prev\r\n",
        "    socre_board[player] += to_remove.val\r\n",
        "\r\n",
        "    # Remove marble\r\n",
        "    remove_from_circular_linked_list(to_remove)\r\n",
        "\r\n",
        "  else:\r\n",
        "\r\n",
        "    x = current.next\r\n",
        "    insert_after_in_circular_linked_list(x, marble)\r\n",
        "    current = x.next\r\n",
        "\r\n",
        "  #print_ciruclar_linked_list(zero, marble)\r\n",
        "\r\n",
        "  player = (player + 1) % num_players"
      ],
      "execution_count": 7,
      "outputs": []
    },
    {
      "cell_type": "code",
      "metadata": {
        "colab": {
          "base_uri": "https://localhost:8080/"
        },
        "id": "An93sxsHMKBu",
        "outputId": "9b752dfd-8faf-44d1-ec5c-ab46ef0ec8d9"
      },
      "source": [
        "max(socre_board.values())"
      ],
      "execution_count": 8,
      "outputs": [
        {
          "output_type": "execute_result",
          "data": {
            "text/plain": [
              "3276488008"
            ]
          },
          "metadata": {
            "tags": []
          },
          "execution_count": 8
        }
      ]
    },
    {
      "cell_type": "markdown",
      "metadata": {
        "id": "CWK6Bqdg-rd3"
      },
      "source": [
        "My code from Part 1 worked just fine for Part 2. I expected they would ask to run it a ridiculously large number. It illustrates how choosing the right data structure can save time."
      ]
    },
    {
      "cell_type": "code",
      "metadata": {
        "id": "9ymhQxvzS4vK"
      },
      "source": [
        ""
      ],
      "execution_count": 8,
      "outputs": []
    }
  ]
}