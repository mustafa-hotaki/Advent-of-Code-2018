{
  "nbformat": 4,
  "nbformat_minor": 0,
  "metadata": {
    "colab": {
      "name": "Day10.ipynb",
      "provenance": [],
      "collapsed_sections": []
    },
    "kernelspec": {
      "name": "python3",
      "display_name": "Python 3"
    }
  },
  "cells": [
    {
      "cell_type": "markdown",
      "metadata": {
        "id": "Pcti5h5XqWtG"
      },
      "source": [
        "# Advent of Code 2018 - Day 10"
      ]
    },
    {
      "cell_type": "code",
      "metadata": {
        "id": "KVgfAqLMqWz7",
        "colab": {
          "base_uri": "https://localhost:8080/"
        },
        "outputId": "d64f249f-d81b-46ea-9de0-aea7187324c0"
      },
      "source": [
        "data = []\r\n",
        "with open('inputs_day_10.txt', 'r') as f:\r\n",
        "  for line in f:\r\n",
        "    data.append(line.strip())\r\n",
        "\r\n",
        "data[:10]"
      ],
      "execution_count": 1,
      "outputs": [
        {
          "output_type": "execute_result",
          "data": {
            "text/plain": [
              "['position=<-41150,  41504> velocity=< 4, -4>',\n",
              " 'position=< 31211, -10213> velocity=<-3,  1>',\n",
              " 'position=<-51522, -41248> velocity=< 5,  4>',\n",
              " 'position=< 31227, -51593> velocity=<-3,  5>',\n",
              " 'position=< 31257, -20560> velocity=<-3,  2>',\n",
              " 'position=< 41558,  10468> velocity=<-4, -1>',\n",
              " 'position=< 10539, -30904> velocity=<-1,  3>',\n",
              " 'position=< 51919, -41253> velocity=<-5,  4>',\n",
              " 'position=< 31246,  10473> velocity=<-3, -1>',\n",
              " 'position=<-20471,  20813> velocity=< 2, -2>']"
            ]
          },
          "metadata": {
            "tags": []
          },
          "execution_count": 1
        }
      ]
    },
    {
      "cell_type": "code",
      "metadata": {
        "colab": {
          "base_uri": "https://localhost:8080/"
        },
        "id": "O6JUu-hETtK5",
        "outputId": "ea3e3896-7c90-48ae-8888-b99330250b9b"
      },
      "source": [
        "# Parse, thought of my answer to https://adventofcode.com/2017/day/20\r\n",
        "particles_initial = []\r\n",
        "\r\n",
        "for i, line in enumerate(data):\r\n",
        "  position = [int(x) for x in line[line.index('n=<') + 3: line.find('> v')].split(',')]\r\n",
        "  velocity = [int(x) for x in line[line.index('y=<') + 3: line.rfind('>')].split(',')]\r\n",
        "  particles_initial.append({'position' : position, 'velocity' : velocity})\r\n",
        "\r\n",
        "particles_initial[:10]"
      ],
      "execution_count": 2,
      "outputs": [
        {
          "output_type": "execute_result",
          "data": {
            "text/plain": [
              "[{'position': [-41150, 41504], 'velocity': [4, -4]},\n",
              " {'position': [31211, -10213], 'velocity': [-3, 1]},\n",
              " {'position': [-51522, -41248], 'velocity': [5, 4]},\n",
              " {'position': [31227, -51593], 'velocity': [-3, 5]},\n",
              " {'position': [31257, -20560], 'velocity': [-3, 2]},\n",
              " {'position': [41558, 10468], 'velocity': [-4, -1]},\n",
              " {'position': [10539, -30904], 'velocity': [-1, 3]},\n",
              " {'position': [51919, -41253], 'velocity': [-5, 4]},\n",
              " {'position': [31246, 10473], 'velocity': [-3, -1]},\n",
              " {'position': [-20471, 20813], 'velocity': [2, -2]}]"
            ]
          },
          "metadata": {
            "tags": []
          },
          "execution_count": 2
        }
      ]
    },
    {
      "cell_type": "markdown",
      "metadata": {
        "id": "mrUov17BSSZ_"
      },
      "source": [
        "## Part 1 and 2"
      ]
    },
    {
      "cell_type": "code",
      "metadata": {
        "id": "le3DQNYIYbXf"
      },
      "source": [
        "def print_particles(particles):\r\n",
        "  positions = [tuple(p['position']) for p in particles]\r\n",
        "  x_min = min(positions, key = lambda x : x[0])[0]\r\n",
        "  x_max = max(positions, key = lambda x : x[0])[0]\r\n",
        "  y_min = min(positions, key = lambda x : x[1])[1]\r\n",
        "  y_max = max(positions, key = lambda x : x[1])[1]\r\n",
        "  output_lines = []\r\n",
        "  for i in range(y_min, y_max + 1):\r\n",
        "    for j in range(x_min, x_max + 1):\r\n",
        "      if (j, i) in positions:\r\n",
        "        print('#', end = '')\r\n",
        "        \r\n",
        "      else:\r\n",
        "        print('.', end = '')\r\n",
        "    print()\r\n",
        "  print()\r\n"
      ],
      "execution_count": 3,
      "outputs": []
    },
    {
      "cell_type": "markdown",
      "metadata": {
        "id": "PSYJndTZXNWJ"
      },
      "source": [
        "Visualizing is helpful, but it will not help us with the actual problem. We essentially need a text detector. Oh wait, looks like the message will always have a height of 10."
      ]
    },
    {
      "cell_type": "code",
      "metadata": {
        "colab": {
          "base_uri": "https://localhost:8080/"
        },
        "id": "MnJ9C2ydWJCJ",
        "outputId": "be3e2fef-346b-4181-e4e1-4dc48fd12af2"
      },
      "source": [
        "import copy\r\n",
        "\r\n",
        "particles = copy.deepcopy(particles_initial)\r\n",
        "\r\n",
        "counter = 0\r\n",
        "while(True):\r\n",
        "  for j in range(len(particles)):\r\n",
        "    particles[j]['position'][0] += particles[j]['velocity'][0]\r\n",
        "    particles[j]['position'][1] += particles[j]['velocity'][1]\r\n",
        "\r\n",
        "  positions = [tuple(p['position']) for p in particles]\r\n",
        "\r\n",
        "  x_min = min(positions, key = lambda x : x[0])[0]\r\n",
        "  x_max = max(positions, key = lambda x : x[0])[0]\r\n",
        "  y_min = min(positions, key = lambda x : x[1])[1]\r\n",
        "  y_max = max(positions, key = lambda x : x[1])[1]\r\n",
        "\r\n",
        "  counter += 1\r\n",
        "\r\n",
        "  if y_max - y_min + 1 == 10:\r\n",
        "    print(counter)\r\n",
        "    print_particles(particles)\r\n",
        "    break\r\n"
      ],
      "execution_count": 4,
      "outputs": [
        {
          "output_type": "stream",
          "text": [
            "10345\n",
            ".####...#####......###..#####...#....#..#....#...####...######\n",
            "#....#..#....#......#...#....#..##...#..#...#...#....#..#.....\n",
            "#.......#....#......#...#....#..##...#..#..#....#.......#.....\n",
            "#.......#....#......#...#....#..#.#..#..#.#.....#.......#.....\n",
            "#.......#####.......#...#####...#.#..#..##......#.......#####.\n",
            "#.......#...........#...#..#....#..#.#..##......#.......#.....\n",
            "#.......#...........#...#...#...#..#.#..#.#.....#.......#.....\n",
            "#.......#.......#...#...#...#...#...##..#..#....#.......#.....\n",
            "#....#..#.......#...#...#....#..#...##..#...#...#....#..#.....\n",
            ".####...#........###....#....#..#....#..#....#...####...#.....\n",
            "\n"
          ],
          "name": "stdout"
        }
      ]
    },
    {
      "cell_type": "code",
      "metadata": {
        "id": "JXHnGwW2ieaR"
      },
      "source": [
        ""
      ],
      "execution_count": 4,
      "outputs": []
    },
    {
      "cell_type": "code",
      "metadata": {
        "id": "nDnNTwDYicdT"
      },
      "source": [
        ""
      ],
      "execution_count": 4,
      "outputs": []
    }
  ]
}