{
  "nbformat": 4,
  "nbformat_minor": 0,
  "metadata": {
    "colab": {
      "name": "Day12.ipynb",
      "provenance": [],
      "collapsed_sections": []
    },
    "kernelspec": {
      "name": "python3",
      "display_name": "Python 3"
    }
  },
  "cells": [
    {
      "cell_type": "markdown",
      "metadata": {
        "id": "Pcti5h5XqWtG"
      },
      "source": [
        "# Advent of Code 2018 - Day 12"
      ]
    },
    {
      "cell_type": "code",
      "metadata": {
        "id": "KVgfAqLMqWz7",
        "colab": {
          "base_uri": "https://localhost:8080/"
        },
        "outputId": "acf725fd-122f-43cc-e7fb-11ef2ce6a6e3"
      },
      "source": [
        "data = []\r\n",
        "with open('inputs_day_12.txt', 'r') as f:\r\n",
        "  for line in f:\r\n",
        "    data.append(line.strip())\r\n",
        "\r\n",
        "data[:10]"
      ],
      "execution_count": 1,
      "outputs": [
        {
          "output_type": "execute_result",
          "data": {
            "text/plain": [
              "['initial state: ##.......#.######.##..#...#.#.#..#...#..####..#.##...#....#...##..#..#.##.##.###.##.#.......###....#',\n",
              " '',\n",
              " '.#### => .',\n",
              " '....# => .',\n",
              " '###.. => .',\n",
              " '..#.# => .',\n",
              " '##### => #',\n",
              " '####. => .',\n",
              " '#.##. => #',\n",
              " '#.#.# => .']"
            ]
          },
          "metadata": {
            "tags": []
          },
          "execution_count": 1
        }
      ]
    },
    {
      "cell_type": "code",
      "metadata": {
        "colab": {
          "base_uri": "https://localhost:8080/"
        },
        "id": "8T-RhYZk7p6v",
        "outputId": "6516e865-328b-44d9-a7c1-fb97bd2afbaf"
      },
      "source": [
        "initial_state = data[0][data[0].find(':') + 2:]\r\n",
        "\r\n",
        "notes = {}\r\n",
        "for line in data[2:]:\r\n",
        "  key, value = line.split(' => ')\r\n",
        "  notes[key] = value\r\n",
        "\r\n",
        "initial_state, notes"
      ],
      "execution_count": 2,
      "outputs": [
        {
          "output_type": "execute_result",
          "data": {
            "text/plain": [
              "('##.......#.######.##..#...#.#.#..#...#..####..#.##...#....#...##..#..#.##.##.###.##.#.......###....#',\n",
              " {'#####': '#',\n",
              "  '####.': '.',\n",
              "  '###.#': '.',\n",
              "  '###..': '.',\n",
              "  '##.##': '#',\n",
              "  '##.#.': '#',\n",
              "  '##..#': '#',\n",
              "  '##...': '#',\n",
              "  '#.###': '.',\n",
              "  '#.##.': '#',\n",
              "  '#.#.#': '.',\n",
              "  '#.#..': '.',\n",
              "  '#..##': '.',\n",
              "  '#..#.': '#',\n",
              "  '#...#': '#',\n",
              "  '#....': '.',\n",
              "  '.####': '.',\n",
              "  '.###.': '.',\n",
              "  '.##.#': '#',\n",
              "  '.##..': '.',\n",
              "  '.#.##': '.',\n",
              "  '.#.#.': '.',\n",
              "  '.#..#': '#',\n",
              "  '.#...': '#',\n",
              "  '..###': '#',\n",
              "  '..##.': '.',\n",
              "  '..#.#': '.',\n",
              "  '..#..': '.',\n",
              "  '...##': '#',\n",
              "  '...#.': '.',\n",
              "  '....#': '.',\n",
              "  '.....': '.'})"
            ]
          },
          "metadata": {
            "tags": []
          },
          "execution_count": 2
        }
      ]
    },
    {
      "cell_type": "markdown",
      "metadata": {
        "id": "5BiMCmR8KpLm"
      },
      "source": [
        "## Part 1\r\n",
        "\r\n",
        "I chose a set of pots containing plants as my data structure. My algorithm is not the most efficient because it iterates from min pot to max pot. It becomes inefficient if the difference between those pots (indexes of them) becomes great, especially if there are many consecutive empty pots between them. It is not a problem for Part 1, or even Part 2 since any improvement will still not put a dent in the 5 billion (we must be more clever)."
      ]
    },
    {
      "cell_type": "code",
      "metadata": {
        "id": "9ksELwExKoEF"
      },
      "source": [
        "def next_generation_by_reference(pots):\r\n",
        "\r\n",
        "  to_add = set()\r\n",
        "  to_remove = set()\r\n",
        "\r\n",
        "  minimum_index = min(pots)\r\n",
        "  maximum_index = max(pots)\r\n",
        "\r\n",
        "  for i in range(minimum_index - 2, maximum_index + 1 + 2):\r\n",
        "    indexes = [x for x in range(i - 2, i + 2 + 1)]\r\n",
        "\r\n",
        "    LLCRR = ['#' if i in pots else '.' for i in indexes]\r\n",
        "    \r\n",
        "    key = ''.join(LLCRR)\r\n",
        "    value = '.'\r\n",
        "    if key in notes:\r\n",
        "      value = notes[key]\r\n",
        "\r\n",
        "    if value == '#':\r\n",
        "      if not i in pots:\r\n",
        "        to_add.add(i)\r\n",
        "    elif value == '.':\r\n",
        "      if i in pots:\r\n",
        "        to_remove.add(i)\r\n",
        "    else:\r\n",
        "      print('oops')\r\n",
        "\r\n",
        "  for ta in to_add:\r\n",
        "    pots.add(ta)\r\n",
        "\r\n",
        "  for tr in to_remove:\r\n",
        "    pots.remove(tr)\r\n"
      ],
      "execution_count": 3,
      "outputs": []
    },
    {
      "cell_type": "code",
      "metadata": {
        "colab": {
          "base_uri": "https://localhost:8080/"
        },
        "id": "fBP2a4dDIbgr",
        "outputId": "54d48e09-7dc6-4b84-88fa-c469c5386622"
      },
      "source": [
        "pots = {i for i, a in enumerate(initial_state) if a == '#'}\r\n",
        "\r\n",
        "for i in range(20):\r\n",
        "  next_generation_by_reference(pots)\r\n",
        "  print(*['#' if x in pots else '.' for x in range(min(pots), max(pots) + 1)], sep = '')\r\n",
        "\r\n",
        "sum(pots)"
      ],
      "execution_count": 4,
      "outputs": [
        {
          "output_type": "stream",
          "text": [
            "#..#..........##..##.##.##......##.##..#.#...##..#.##..#....###..##.##..######...####.#.....##..#....#\n",
            "##.#........#..#..######.#....#.###.##...###..##..#.##.#..##..#..###.#.#.##..####...#.#...#..##.#....#\n",
            "#.##.#........##.#.#.##..#.#........##.####..#...##..###.#...##.#.#..#....#.#.#...##....##..#..##.#....#\n",
            "###.#......#.##....#.##...#......#.##....##.###..#.#..#.###.##...##.#........###..#..#..##.#..##.#....#\n",
            "##..#.#.......#.#.....#.##..#.......#.#..#.##...##...##.....##.###.##.#......##..##.##.#..##.#..##.#....#\n",
            "#..##...#.........#......#.##.#.........##..#.###..###..#...#.##...####.#....#..#..#####.#..##.#..##.#....#\n",
            "#...##..#.........#.......###.#.......#..##.....#.#..##.##...#.####...#.#....##.#.#.#..#.#..##.#..##.#....#\n",
            "###..##.#.........#.....##..#.#.......#...#.......#..###.##.......##....#..#.##.....##...#..##.#..##.#....#\n",
            "##..#..##.#.........#...#..##...#.......##..#.......#.#..##.#.....#..#....##..#.#...#..##..#..##.#..##.#....#\n",
            "#..##.#..##.#.........##..#...##..#.....#..##.#.........#..##.#.....##.#..#..##...##..#...##.#..##.#..##.#....#\n",
            "#..##.#..##.#.......#..##.###..##.#.....#..##.#.........#..##.#...#.##.##.#...###..##.###.##.#..##.#..##.#....#\n",
            "#..##.#..##.#.......#..##...#..##.#.....#..##.#.........#..##.##...######.####..#..##...####.#..##.#..##.#....#\n",
            "#..##.#..##.#.......#...##..#..##.#.....#..##.#.........#..###.####.##..#....##.#...####...#.#..##.#..##.#....#\n",
            "#..##.#..##.#.......###..##.#..##.#.....#..##.#.........#.#..#....##.##.#..#.##.####...##....#..##.#..##.#....#\n",
            "#..##.#..##.#.....##..#..##.#..##.#.....#..##.#...........##.#..#.#####.##..###....###..#....#..##.#..##.#....#\n",
            "#..##.#..##.#...#..##.#..##.#..##.#.....#..##.#.........#.##.##....#..##.#.#..#..##..##.#....#..##.#..##.#....#\n",
            "#..##.#..##.##..#..##.#..##.#..##.#.....#..##.#..........####.#....#..##...##.#...#..##.#....#..##.#..##.#....#\n",
            "#..##.#..###.##.#..##.#..##.#..##.#.....#..##.#........##...#.#....#...###.##.##..#..##.#....#..##.#..##.#....#\n",
            "#..##.#.#..####.#..##.#..##.#..##.#.....#..##.#......#..##....#....####..#####.##.#..##.#....#..##.#..##.#....#\n",
            "#..##...#.#...#.#..##.#..##.#..##.#.....#..##.#......#...#....#..##...#.#.#..####.#..##.#....#..##.#..##.#....#\n"
          ],
          "name": "stdout"
        },
        {
          "output_type": "execute_result",
          "data": {
            "text/plain": [
              "2840"
            ]
          },
          "metadata": {
            "tags": []
          },
          "execution_count": 4
        }
      ]
    },
    {
      "cell_type": "markdown",
      "metadata": {
        "id": "c_PNSoJkxeEN"
      },
      "source": [
        "## Part 2\r\n",
        "\r\n",
        "Computing 5 billion of anything is a time-consuming task. We must look for a pattern to cut down the number of computations. Does the pattern repeat?\r\n",
        "\r\n",
        "After some digging I found the pattern: After hitting a particular generation, the subsequent generations look like the same generation but the location of it seems to change. Specifically for my input, everything seems to move to the right by one for each incrementing generation."
      ]
    },
    {
      "cell_type": "code",
      "metadata": {
        "colab": {
          "base_uri": "https://localhost:8080/"
        },
        "id": "U1GjdWUtk2Db",
        "outputId": "c5b8c90a-bd96-470d-c26b-0faa0d60a26a"
      },
      "source": [
        "pots = {i for i, a in enumerate(initial_state) if a == '#'}\r\n",
        "\r\n",
        "done_before = {}\r\n",
        "pattern = ''.join(['#' if x in pots else '.' for x in range(min(pots), max(pots) + 1)])\r\n",
        "done_before[pattern] = pots\r\n",
        "\r\n",
        "repeat_count = 0\r\n",
        "for i in range(50000000000):\r\n",
        "  next_generation_by_reference(pots)\r\n",
        "\r\n",
        "  pattern = ''.join(['#' if x in pots else '.' for x in range(min(pots), max(pots) + 1)])\r\n",
        "  if pattern in done_before:\r\n",
        "    print('Repeated Pattern', '\\nGeneration:', i + 1, '\\nPattern:', pattern, '\\nPot Locations:', done_before[pattern], '\\n')\r\n",
        "    repeat_count += 1\r\n",
        "  else:\r\n",
        "    done_before[pattern] = pots\r\n",
        "\r\n",
        "  if repeat_count == 5:\r\n",
        "    break\r\n"
      ],
      "execution_count": 5,
      "outputs": [
        {
          "output_type": "stream",
          "text": [
            "Repeated Pattern \n",
            "Generation: 98 \n",
            "Pattern: #..##.#....#..##.#........#..##.#....#....#....#....#..##.#....#..##.#....#....#..##.#....#..##.#....#..##.#..##.#....# \n",
            "Pot Locations: {79, 82, 83, 85, 90, 93, 94, 96, 105, 108, 109, 111, 116, 121, 126, 131, 134, 135, 137, 142, 145, 146, 148, 153, 158, 161, 162, 164, 169, 172, 173, 175, 180, 183, 184, 186, 189, 190, 192, 197} \n",
            "\n",
            "Repeated Pattern \n",
            "Generation: 99 \n",
            "Pattern: #..##.#....#..##.#........#..##.#....#....#....#....#..##.#....#..##.#....#....#..##.#....#..##.#....#..##.#..##.#....# \n",
            "Pot Locations: {80, 83, 84, 86, 91, 94, 95, 97, 106, 109, 110, 112, 117, 122, 127, 132, 135, 136, 138, 143, 146, 147, 149, 154, 159, 162, 163, 165, 170, 173, 174, 176, 181, 184, 185, 187, 190, 191, 193, 198} \n",
            "\n",
            "Repeated Pattern \n",
            "Generation: 100 \n",
            "Pattern: #..##.#....#..##.#........#..##.#....#....#....#....#..##.#....#..##.#....#....#..##.#....#..##.#....#..##.#..##.#....# \n",
            "Pot Locations: {81, 84, 85, 87, 92, 95, 96, 98, 107, 110, 111, 113, 118, 123, 128, 133, 136, 137, 139, 144, 147, 148, 150, 155, 160, 163, 164, 166, 171, 174, 175, 177, 182, 185, 186, 188, 191, 192, 194, 199} \n",
            "\n",
            "Repeated Pattern \n",
            "Generation: 101 \n",
            "Pattern: #..##.#....#..##.#........#..##.#....#....#....#....#..##.#....#..##.#....#....#..##.#....#..##.#....#..##.#..##.#....# \n",
            "Pot Locations: {82, 85, 86, 88, 93, 96, 97, 99, 108, 111, 112, 114, 119, 124, 129, 134, 137, 138, 140, 145, 148, 149, 151, 156, 161, 164, 165, 167, 172, 175, 176, 178, 183, 186, 187, 189, 192, 193, 195, 200} \n",
            "\n",
            "Repeated Pattern \n",
            "Generation: 102 \n",
            "Pattern: #..##.#....#..##.#........#..##.#....#....#....#....#..##.#....#..##.#....#....#..##.#....#..##.#....#..##.#..##.#....# \n",
            "Pot Locations: {83, 86, 87, 89, 94, 97, 98, 100, 109, 112, 113, 115, 120, 125, 130, 135, 138, 139, 141, 146, 149, 150, 152, 157, 162, 165, 166, 168, 173, 176, 177, 179, 184, 187, 188, 190, 193, 194, 196, 201} \n",
            "\n"
          ],
          "name": "stdout"
        }
      ]
    },
    {
      "cell_type": "markdown",
      "metadata": {
        "id": "Szvpkcp59bjL"
      },
      "source": [
        "The above shows the first 5 repeated patterns. Interestingly, they are all the same pattern, they happen for each generation after the 98th generation, and the pattern location moves to the right by 1 i.e., all pot locations are incremented by 1."
      ]
    },
    {
      "cell_type": "code",
      "metadata": {
        "colab": {
          "base_uri": "https://localhost:8080/"
        },
        "id": "3hZmWsUug8xL",
        "outputId": "97224d49-0752-44e0-e858-e9126324f2ce"
      },
      "source": [
        "# All generations including and after the 97th generation look the same\r\n",
        "\r\n",
        "pots = sorted(list(pots)) # This is the 98th generation\r\n",
        "generation = 50000000000\r\n",
        "increment = generation - 98 \r\n",
        "for i, pot in enumerate(pots):\r\n",
        "  pots[i] += increment\r\n",
        "\r\n",
        "sum(pots)"
      ],
      "execution_count": 6,
      "outputs": [
        {
          "output_type": "execute_result",
          "data": {
            "text/plain": [
              "2000000001844"
            ]
          },
          "metadata": {
            "tags": []
          },
          "execution_count": 6
        }
      ]
    },
    {
      "cell_type": "code",
      "metadata": {
        "id": "hxHBVHNBmmsd"
      },
      "source": [
        ""
      ],
      "execution_count": 6,
      "outputs": []
    }
  ]
}