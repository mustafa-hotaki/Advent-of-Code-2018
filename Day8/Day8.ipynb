{
  "nbformat": 4,
  "nbformat_minor": 0,
  "metadata": {
    "colab": {
      "name": "Day8.ipynb",
      "provenance": [],
      "collapsed_sections": [],
      "toc_visible": true
    },
    "kernelspec": {
      "name": "python3",
      "display_name": "Python 3"
    }
  },
  "cells": [
    {
      "cell_type": "markdown",
      "metadata": {
        "id": "Pcti5h5XqWtG"
      },
      "source": [
        "# Advent of Code 2018 - Day 8\r\n",
        "\r\n",
        "This one took some shots, but I am ultimately happy with the solution. It is naturally recursive."
      ]
    },
    {
      "cell_type": "code",
      "metadata": {
        "id": "KVgfAqLMqWz7",
        "colab": {
          "base_uri": "https://localhost:8080/"
        },
        "outputId": "b8f96f43-f4ac-49c9-f643-b837c082c095"
      },
      "source": [
        "data = []\r\n",
        "with open('inputs_day_8.txt', 'r') as f:\r\n",
        "  for line in f:\r\n",
        "    data.append(line.strip())\r\n",
        "\r\n",
        "len(data[0])"
      ],
      "execution_count": 1,
      "outputs": [
        {
          "output_type": "execute_result",
          "data": {
            "text/plain": [
              "33500"
            ]
          },
          "metadata": {
            "tags": []
          },
          "execution_count": 1
        }
      ]
    },
    {
      "cell_type": "code",
      "metadata": {
        "colab": {
          "base_uri": "https://localhost:8080/"
        },
        "id": "fuEzOVNPSfjZ",
        "outputId": "bb7aa77a-d063-4077-9ebc-8f54c3683c82"
      },
      "source": [
        "numbers = [int(x) for x in data[0].split(' ')]\r\n",
        "numbers[ : 20]"
      ],
      "execution_count": 2,
      "outputs": [
        {
          "output_type": "execute_result",
          "data": {
            "text/plain": [
              "[8, 11, 7, 2, 4, 5, 3, 6, 1, 6, 0, 8, 1, 7, 6, 3, 1, 3, 1, 1]"
            ]
          },
          "metadata": {
            "tags": []
          },
          "execution_count": 2
        }
      ]
    },
    {
      "cell_type": "markdown",
      "metadata": {
        "id": "mrUov17BSSZ_"
      },
      "source": [
        "## Part 1"
      ]
    },
    {
      "cell_type": "code",
      "metadata": {
        "id": "bA1vLRvJ4Twb"
      },
      "source": [
        "# Header is a tuple of two numbers\r\n",
        "class Node():\r\n",
        "  def __init__(self, header):\r\n",
        "    self.header = header\r\n",
        "    self.children = []\r\n",
        "    self.metadata_entries = []\r\n"
      ],
      "execution_count": 3,
      "outputs": []
    },
    {
      "cell_type": "code",
      "metadata": {
        "id": "BdItxvI9Igx8"
      },
      "source": [
        "# Given a tree, figure out how long the code for it is\r\n",
        "# It is (kind of) the inverse of the problem, but it helps with building a tree\r\n",
        "# It removes the need for keeping track of length in the nodes\r\n",
        "\r\n",
        "def tree_code_length(node):\r\n",
        "  length = 2 + node.header[1]\r\n",
        "\r\n",
        "  for child in node.children:\r\n",
        "    length += tree_code_length(child)\r\n",
        "\r\n",
        "  return length"
      ],
      "execution_count": 4,
      "outputs": []
    },
    {
      "cell_type": "code",
      "metadata": {
        "id": "T1gTlx3Y4UZD"
      },
      "source": [
        "# Recursively build a tree given a tape (list of numbers) and an index indicating the location of the header for a node to make\r\n",
        "def build_tree(numbers, index):\r\n",
        "  #print(*numbers[ : index], numbers[index : index + 2], *numbers[index + 2 :])\r\n",
        "\r\n",
        "  num_children = numbers[index]\r\n",
        "  num_meta = numbers[index + 1]\r\n",
        "  #print(num_children, num_meta)\r\n",
        "  \r\n",
        "  if num_children == 0: # Leaf node\r\n",
        "    leaf = Node((num_children, num_meta))\r\n",
        "    leaf.metadata_entries = numbers[index + 2 : index + 2 + num_meta]\r\n",
        "    return leaf\r\n",
        "\r\n",
        "  else:\r\n",
        "    parent = Node((num_children, num_meta))\r\n",
        "\r\n",
        "    # Next, we recursivley build trees for the children\r\n",
        "    # This needs to be done before we can figure out where on the tape to read the metadata from\r\n",
        "    child_index = index + 2 # First child defined right after header\r\n",
        "    for i in range(num_children):\r\n",
        "      child_tree = build_tree(numbers, child_index)\r\n",
        "      parent.children.append(child_tree)\r\n",
        "      # The next child is found by counting how long the current subtree took\r\n",
        "      child_index += tree_code_length(child_tree)\r\n",
        "\r\n",
        "    # Add node metadata\r\n",
        "    parent.metadata_entries = numbers[child_index : child_index + num_meta]\r\n",
        "\r\n",
        "    return parent\r\n",
        "\r\n",
        "root = build_tree(numbers, 0)"
      ],
      "execution_count": 5,
      "outputs": []
    },
    {
      "cell_type": "code",
      "metadata": {
        "colab": {
          "base_uri": "https://localhost:8080/",
          "height": 35
        },
        "id": "nYY3k3cSVpts",
        "outputId": "e693a64c-5ca2-49cd-fa7d-efb09f8b3799"
      },
      "source": [
        "from graphviz import Digraph\r\n",
        "\r\n",
        "g = Digraph('G', filename='viz')\r\n",
        "\r\n",
        "def graph(node, g):\r\n",
        "  g.node(str(node), label = str(node.header))\r\n",
        "\r\n",
        "  for child in node.children:\r\n",
        "    g.edge(str(node), str(child))\r\n",
        "    graph(child, g)\r\n",
        "\r\n",
        "\r\n",
        "graph(root, g)\r\n",
        "g.view()"
      ],
      "execution_count": 14,
      "outputs": [
        {
          "output_type": "execute_result",
          "data": {
            "application/vnd.google.colaboratory.intrinsic+json": {
              "type": "string"
            },
            "text/plain": [
              "'viz.pdf'"
            ]
          },
          "metadata": {
            "tags": []
          },
          "execution_count": 14
        }
      ]
    },
    {
      "cell_type": "code",
      "metadata": {
        "colab": {
          "base_uri": "https://localhost:8080/"
        },
        "id": "_xWKmlGO4jG6",
        "outputId": "45b1e3cb-876b-441a-b06c-9780050d9c55"
      },
      "source": [
        "def get_total_metadata_entries(node):\r\n",
        "\r\n",
        "  total = [x for x in node.metadata_entries] # Copies it to avoid modifying it, Ughh Python!\r\n",
        "  \r\n",
        "  for child in node.children:\r\n",
        "    a = get_total_metadata_entries(child)\r\n",
        "    total += a\r\n",
        "\r\n",
        "  return total\r\n",
        "\r\n",
        "sum(get_total_metadata_entries(root))"
      ],
      "execution_count": 6,
      "outputs": [
        {
          "output_type": "execute_result",
          "data": {
            "text/plain": [
              "42472"
            ]
          },
          "metadata": {
            "tags": []
          },
          "execution_count": 6
        }
      ]
    },
    {
      "cell_type": "markdown",
      "metadata": {
        "id": "CWK6Bqdg-rd3"
      },
      "source": [
        "## Part 2"
      ]
    },
    {
      "cell_type": "code",
      "metadata": {
        "id": "Vm7WcfuE-wff",
        "colab": {
          "base_uri": "https://localhost:8080/"
        },
        "outputId": "c62bb573-5f79-4037-99ab-46e158e0295c"
      },
      "source": [
        "def value(node):\r\n",
        "\r\n",
        "  if len(node.children) == 0:\r\n",
        "    return sum(node.metadata_entries)\r\n",
        "\r\n",
        "  else:\r\n",
        "    res = 0\r\n",
        "    for i in node.metadata_entries:\r\n",
        "      if i - 1 in range(len(node.children)): # Only entries that are indexes (starting at 1, not 0) of children\r\n",
        "         res += value(node.children[i - 1])\r\n",
        "    return res\r\n",
        "\r\n",
        "value(root)"
      ],
      "execution_count": 7,
      "outputs": [
        {
          "output_type": "execute_result",
          "data": {
            "text/plain": [
              "21810"
            ]
          },
          "metadata": {
            "tags": []
          },
          "execution_count": 7
        }
      ]
    },
    {
      "cell_type": "code",
      "metadata": {
        "id": "9ymhQxvzS4vK"
      },
      "source": [
        ""
      ],
      "execution_count": 7,
      "outputs": []
    }
  ]
}