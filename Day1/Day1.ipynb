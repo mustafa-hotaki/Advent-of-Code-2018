{
  "nbformat": 4,
  "nbformat_minor": 0,
  "metadata": {
    "colab": {
      "name": "Day1.ipynb",
      "provenance": []
    },
    "kernelspec": {
      "name": "python3",
      "display_name": "Python 3"
    }
  },
  "cells": [
    {
      "cell_type": "markdown",
      "metadata": {
        "id": "Pcti5h5XqWtG"
      },
      "source": [
        "# Advent of Code 2018 - Day 1"
      ]
    },
    {
      "cell_type": "code",
      "metadata": {
        "id": "KVgfAqLMqWz7"
      },
      "source": [
        "data = []\r\n",
        "with open('inputs_day_1.txt', 'r') as f:\r\n",
        "  for line in f:\r\n",
        "    data.append(int(line.strip()))"
      ],
      "execution_count": null,
      "outputs": []
    },
    {
      "cell_type": "code",
      "metadata": {
        "colab": {
          "base_uri": "https://localhost:8080/"
        },
        "id": "86maDHJhqhb0",
        "outputId": "c1cad237-5930-4d44-c885-f8dee0383950"
      },
      "source": [
        "sum(data)"
      ],
      "execution_count": null,
      "outputs": [
        {
          "output_type": "execute_result",
          "data": {
            "text/plain": [
              "574"
            ]
          },
          "metadata": {
            "tags": []
          },
          "execution_count": 2
        }
      ]
    },
    {
      "cell_type": "code",
      "metadata": {
        "colab": {
          "base_uri": "https://localhost:8080/"
        },
        "id": "mJgBc32Jq2Wh",
        "outputId": "01febe63-dccc-4fe7-a6f3-1aa0c1e80957"
      },
      "source": [
        "import time\r\n",
        "\r\n",
        "start_time = time.time()\r\n",
        "\r\n",
        "frequencies = [0]\r\n",
        "freq = 0\r\n",
        "index = 0\r\n",
        "\r\n",
        "while(True):\r\n",
        "  freq += data[index % len(data)] \r\n",
        "  if freq in frequencies:\r\n",
        "    print(freq)\r\n",
        "    break\r\n",
        "  else:\r\n",
        "    frequencies.append(freq)\r\n",
        "  index += 1\r\n",
        "\r\n",
        "print(\"\\nExecution completed in {} seconds.\".format(time.time() - start_time))"
      ],
      "execution_count": null,
      "outputs": [
        {
          "output_type": "stream",
          "text": [
            "452\n",
            "\n",
            "Execution completed in 103.86390662193298 seconds.\n"
          ],
          "name": "stdout"
        }
      ]
    },
    {
      "cell_type": "code",
      "metadata": {
        "id": "EaxKdV8WrSFG"
      },
      "source": [
        ""
      ],
      "execution_count": null,
      "outputs": []
    }
  ]
}