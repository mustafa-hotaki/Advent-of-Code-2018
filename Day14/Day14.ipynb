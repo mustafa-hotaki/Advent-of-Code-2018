{
  "nbformat": 4,
  "nbformat_minor": 0,
  "metadata": {
    "colab": {
      "name": "Day14.ipynb",
      "provenance": [],
      "collapsed_sections": [],
      "toc_visible": true
    },
    "kernelspec": {
      "name": "python3",
      "display_name": "Python 3"
    }
  },
  "cells": [
    {
      "cell_type": "markdown",
      "metadata": {
        "id": "Pcti5h5XqWtG"
      },
      "source": [
        "# Advent of Code 2018 - Day 14"
      ]
    },
    {
      "cell_type": "code",
      "metadata": {
        "id": "MMia93_RvwLR"
      },
      "source": [
        "puzzle_input = '084601'"
      ],
      "execution_count": 1,
      "outputs": []
    },
    {
      "cell_type": "markdown",
      "metadata": {
        "id": "Ve6zv41V6_4n"
      },
      "source": [
        "# Part 1"
      ]
    },
    {
      "cell_type": "code",
      "metadata": {
        "id": "BC6g0P8435kN"
      },
      "source": [
        "def print_recipes(recipes, i, j):\r\n",
        "\r\n",
        "  for index, r in enumerate(recipes):\r\n",
        "    if index == i:\r\n",
        "      print('(', r, ')', sep='', end='')\r\n",
        "    elif index == j:\r\n",
        "      print('[', r, ']', sep='', end='')\r\n",
        "    else:\r\n",
        "      print(' ', r, ' ', sep='', end='')\r\n",
        "  print()"
      ],
      "execution_count": 2,
      "outputs": []
    },
    {
      "cell_type": "code",
      "metadata": {
        "colab": {
          "base_uri": "https://localhost:8080/"
        },
        "id": "EwojOlmz3Ag7",
        "outputId": "5fcd7def-9538-4759-df9b-fc154972f251"
      },
      "source": [
        "import time\r\n",
        "\r\n",
        "start_time = time.time()\r\n",
        "\r\n",
        "recipes = [3, 7]\r\n",
        "\r\n",
        "i = 0\r\n",
        "j = 1\r\n",
        "\r\n",
        "num_recepies_required = int(puzzle_input)\r\n",
        "\r\n",
        "count = 0\r\n",
        "\r\n",
        "print('Printing the first 20 lines:\\n')\r\n",
        "\r\n",
        "while(True):\r\n",
        "  a = recipes[i]\r\n",
        "  b = recipes[j]\r\n",
        "\r\n",
        "  new_recipes = [int(x) for x in str(a + b)]\r\n",
        "\r\n",
        "  recipes += new_recipes\r\n",
        "\r\n",
        "  i = (i + a + 1) % len(recipes)\r\n",
        "  j = (j + b + 1) % len(recipes)\r\n",
        "\r\n",
        "  count += 1\r\n",
        "\r\n",
        "  if count <= 20:\r\n",
        "    print_recipes(recipes, i, j)\r\n",
        "\r\n",
        "  if len(recipes) > num_recepies_required + 10:\r\n",
        "    res = ''.join([str(x) for x in recipes[num_recepies_required : num_recepies_required + 10]])\r\n",
        "    print('\\nThe scores of the ten recipes immediately after the number of recipes in your puzzle input:', res)\r\n",
        "    break\r\n",
        "\r\n",
        "print('Execution took {} seconds to complete.'.format(time.time() - start_time))"
      ],
      "execution_count": 3,
      "outputs": [
        {
          "output_type": "stream",
          "text": [
            "Printing the first 20 lines:\n",
            "\n",
            "(3)[7] 1  0 \n",
            " 3  7  1 [0](1) 0 \n",
            " 3  7  1  0 [1] 0 (1)\n",
            "(3) 7  1  0  1  0 [1] 2 \n",
            " 3  7  1  0 (1) 0  1  2 [4]\n",
            " 3  7  1 [0] 1  0 (1) 2  4  5 \n",
            " 3  7  1  0 [1] 0  1  2 (4) 5  1 \n",
            " 3 (7) 1  0  1  0 [1] 2  4  5  1  5 \n",
            " 3  7  1  0  1  0  1  2 [4](5) 1  5  8 \n",
            " 3 (7) 1  0  1  0  1  2  4  5  1  5  8 [9]\n",
            " 3  7  1  0  1  0  1 [2] 4 (5) 1  5  8  9  1  6 \n",
            " 3  7  1  0  1  0  1  2  4  5 [1] 5  8  9  1 (6) 7 \n",
            " 3  7  1  0 (1) 0  1  2  4  5  1  5 [8] 9  1  6  7  7 \n",
            " 3  7 [1] 0  1  0 (1) 2  4  5  1  5  8  9  1  6  7  7  9 \n",
            " 3  7  1  0 [1] 0  1  2 (4) 5  1  5  8  9  1  6  7  7  9  2 \n",
            " 3  7  1  0  1  0 [1] 2  4  5  1  5  8 (9) 1  6  7  7  9  2  5 \n",
            "(3) 7  1  0  1  0  1  2 [4] 5  1  5  8  9  1  6  7  7  9  2  5  1  0 \n",
            " 3  7  1  0 (1) 0  1  2  4  5  1  5  8 [9] 1  6  7  7  9  2  5  1  0  7 \n",
            " 3  7  1  0  1  0 (1) 2  4  5  1  5  8  9  1  6  7  7  9  2  5  1  0 [7] 1  0 \n",
            " 3  7  1  0 [1] 0  1  2 (4) 5  1  5  8  9  1  6  7  7  9  2  5  1  0  7  1  0  8 \n",
            "\n",
            "The scores of the ten recipes immediately after the number of recipes in your puzzle input: 2688510125\n",
            "Execution took 0.19119548797607422 seconds to complete.\n"
          ],
          "name": "stdout"
        }
      ]
    },
    {
      "cell_type": "markdown",
      "metadata": {
        "id": "Z-vqlOG-7E1_"
      },
      "source": [
        "## Part 2\r\n",
        "\r\n",
        "This takes a bit of time to run, but it is not too bad. I could not think of a way to speed it up at the moment.\r\n",
        "\r\n",
        "I experimented with using a string data structure for holding the recipes, but it was significantly slower than the list. I attribute it to the fact that strings are immutable in Python, ergo appending to it must result in creating a new string every time."
      ]
    },
    {
      "cell_type": "code",
      "metadata": {
        "colab": {
          "base_uri": "https://localhost:8080/"
        },
        "id": "9cqHFCllHl_J",
        "outputId": "ae9d4200-8573-4a6b-fb51-5be8862cf489"
      },
      "source": [
        "import time\r\n",
        "\r\n",
        "start_time = time.time()\r\n",
        "\r\n",
        "recipes = [3, 7]\r\n",
        "i = 0\r\n",
        "j = 1\r\n",
        "\r\n",
        "pattern = puzzle_input\r\n",
        "pattern = '084601'\r\n",
        "count = 0\r\n",
        "\r\n",
        "while(True):\r\n",
        "\r\n",
        "  a = recipes[i]\r\n",
        "  b = recipes[j]\r\n",
        "\r\n",
        "  new_recipes = [int(x) for x in str(a + b)]\r\n",
        "\r\n",
        "  # Look for pattern in last few items of the existing recipes and the new recipes\r\n",
        "  # Hacky condition but does the job more or less efficiently (at least compared to what I was trying before), need to rewrite\r\n",
        "  segment = recipes[-len(pattern) : ] + new_recipes\r\n",
        "  sement_str = ''.join([str(x) for x in segment]) # Easier to work with string\r\n",
        "  if pattern in sement_str:\r\n",
        "    print('Found:', len(recipes[ : -len(pattern)]) + sement_str.index(pattern))\r\n",
        "    break\r\n",
        "\r\n",
        "  recipes += new_recipes\r\n",
        "\r\n",
        "  i = (i + a + 1) % len(recipes)\r\n",
        "  j = (j + b + 1) % len(recipes)\r\n",
        "\r\n",
        "print('Execution took {} seconds to complete.'.format(time.time() - start_time))"
      ],
      "execution_count": 4,
      "outputs": [
        {
          "output_type": "stream",
          "text": [
            "Found: 20188250\n",
            "Execution took 61.9937698841095 seconds to complete.\n"
          ],
          "name": "stdout"
        }
      ]
    },
    {
      "cell_type": "code",
      "metadata": {
        "id": "WU99OFs3Ho3y"
      },
      "source": [
        ""
      ],
      "execution_count": 4,
      "outputs": []
    }
  ]
}