{
  "nbformat": 4,
  "nbformat_minor": 0,
  "metadata": {
    "colab": {
      "name": "Day7.ipynb",
      "provenance": [],
      "collapsed_sections": [],
      "toc_visible": true
    },
    "kernelspec": {
      "name": "python3",
      "display_name": "Python 3"
    }
  },
  "cells": [
    {
      "cell_type": "markdown",
      "metadata": {
        "id": "Pcti5h5XqWtG"
      },
      "source": [
        "# Advent of Code 2018 - Day 7\r\n",
        "\r\n",
        "I never know how others find these problems, but I thought this one was trickier than it looks. Oh boy, this is a mess, but it gets the job done. I'll clean it up and maybe even make it object-oriented if I get a chance."
      ]
    },
    {
      "cell_type": "code",
      "metadata": {
        "id": "KVgfAqLMqWz7",
        "colab": {
          "base_uri": "https://localhost:8080/"
        },
        "outputId": "00f8e6c2-5185-4d11-ddb1-2ec8f025f420"
      },
      "source": [
        "data = []\r\n",
        "with open('inputs_day_7.txt', 'r') as f:\r\n",
        "  for line in f:\r\n",
        "    data.append(line.strip())\r\n",
        "\r\n",
        "data[:5]"
      ],
      "execution_count": null,
      "outputs": [
        {
          "output_type": "execute_result",
          "data": {
            "text/plain": [
              "['Step F must be finished before step R can begin.',\n",
              " 'Step I must be finished before step P can begin.',\n",
              " 'Step C must be finished before step O can begin.',\n",
              " 'Step H must be finished before step K can begin.',\n",
              " 'Step Y must be finished before step N can begin.']"
            ]
          },
          "metadata": {
            "tags": []
          },
          "execution_count": 1
        }
      ]
    },
    {
      "cell_type": "code",
      "metadata": {
        "colab": {
          "base_uri": "https://localhost:8080/"
        },
        "id": "ydSIqYYZIxAW",
        "outputId": "f827e8bf-3c9a-4399-91ad-ebea35dc3aa2"
      },
      "source": [
        "# Parse\r\n",
        "vertices = set()\r\n",
        "edges = set()\r\n",
        "\r\n",
        "to_directions = {}\r\n",
        "from_directions = {}\r\n",
        "for line in data:\r\n",
        "  #print(line)\r\n",
        "  a = line[line.find(' ') + 1]\r\n",
        "  b = line[line.find('can') - 2]\r\n",
        "\r\n",
        "  vertices.add(a)\r\n",
        "  vertices.add(b)\r\n",
        "\r\n",
        "  edges.add((a, b))\r\n",
        "\r\n",
        "  if a in to_directions:\r\n",
        "    to_directions[a] += [b]\r\n",
        "  else:\r\n",
        "    to_directions[a] = [b]\r\n",
        "\r\n",
        "  if b in from_directions:\r\n",
        "    from_directions[b] += [a]\r\n",
        "  else:\r\n",
        "    from_directions[b] = [a]\r\n",
        "\r\n",
        "print('vertices:\\n', vertices)\r\n",
        "print('edges:\\n', edges)\r\n",
        "\r\n",
        "print('to_directions:\\n', to_directions)\r\n",
        "print('from_directions:\\n', from_directions)"
      ],
      "execution_count": null,
      "outputs": [
        {
          "output_type": "stream",
          "text": [
            "vertices:\n",
            " {'K', 'C', 'E', 'W', 'V', 'A', 'P', 'F', 'Z', 'M', 'I', 'G', 'X', 'D', 'Q', 'Y', 'U', 'H', 'R', 'J', 'L', 'S', 'T', 'N', 'B', 'O'}\n",
            "edges:\n",
            " {('Q', 'V'), ('Z', 'U'), ('P', 'S'), ('G', 'K'), ('Z', 'S'), ('W', 'Q'), ('A', 'K'), ('V', 'U'), ('G', 'S'), ('T', 'W'), ('F', 'Y'), ('M', 'G'), ('M', 'A'), ('Q', 'Z'), ('V', 'Z'), ('F', 'D'), ('I', 'P'), ('D', 'O'), ('U', 'L'), ('Y', 'D'), ('X', 'S'), ('P', 'L'), ('T', 'E'), ('U', 'K'), ('P', 'E'), ('C', 'L'), ('Y', 'U'), ('T', 'J'), ('C', 'Z'), ('G', 'Z'), ('W', 'Z'), ('D', 'W'), ('R', 'L'), ('O', 'J'), ('X', 'U'), ('O', 'Z'), ('V', 'E'), ('I', 'C'), ('L', 'S'), ('N', 'Z'), ('N', 'E'), ('O', 'A'), ('B', 'Q'), ('A', 'S'), ('R', 'J'), ('Y', 'O'), ('J', 'U'), ('T', 'A'), ('Y', 'V'), ('F', 'R'), ('M', 'N'), ('D', 'A'), ('M', 'J'), ('Z', 'E'), ('O', 'N'), ('K', 'L'), ('P', 'U'), ('T', 'U'), ('X', 'Z'), ('Q', 'U'), ('J', 'K'), ('I', 'G'), ('U', 'E'), ('X', 'N'), ('A', 'U'), ('G', 'U'), ('Y', 'N'), ('M', 'Q'), ('B', 'N'), ('Q', 'L'), ('D', 'P'), ('J', 'G'), ('D', 'B'), ('M', 'T'), ('F', 'W'), ('N', 'G'), ('H', 'K'), ('I', 'M'), ('A', 'N'), ('D', 'G'), ('E', 'K'), ('C', 'O'), ('W', 'K'), ('Z', 'K'), ('H', 'X'), ('Z', 'L'), ('F', 'T'), ('G', 'L'), ('T', 'Z'), ('W', 'U'), ('T', 'L'), ('B', 'E'), ('J', 'S'), ('C', 'E'), ('E', 'L'), ('N', 'S'), ('P', 'Q'), ('Q', 'G'), ('U', 'S'), ('X', 'L'), ('M', 'X')}\n",
            "to_directions:\n",
            " {'F': ['R', 'D', 'W', 'Y', 'T'], 'I': ['P', 'M', 'G', 'C'], 'C': ['O', 'L', 'Z', 'E'], 'H': ['K', 'X'], 'Y': ['N', 'V', 'D', 'O', 'U'], 'M': ['J', 'N', 'X', 'Q', 'G', 'T', 'A'], 'D': ['W', 'P', 'A', 'B', 'G', 'O'], 'B': ['N', 'Q', 'E'], 'T': ['A', 'E', 'Z', 'J', 'W', 'L', 'U'], 'R': ['L', 'J'], 'P': ['S', 'Q', 'U', 'E', 'L'], 'O': ['J', 'N', 'Z', 'A'], 'X': ['N', 'S', 'U', 'L', 'Z'], 'A': ['K', 'S', 'U', 'N'], 'N': ['G', 'S', 'E', 'Z'], 'W': ['U', 'K', 'Z', 'Q'], 'Q': ['U', 'V', 'Z', 'G', 'L'], 'V': ['U', 'Z', 'E'], 'J': ['G', 'U', 'S', 'K'], 'G': ['S', 'L', 'K', 'U', 'Z'], 'Z': ['U', 'K', 'E', 'L', 'S'], 'U': ['S', 'L', 'K', 'E'], 'E': ['L', 'K'], 'K': ['L'], 'L': ['S']}\n",
            "from_directions:\n",
            " {'R': ['F'], 'P': ['I', 'D'], 'O': ['C', 'D', 'Y'], 'K': ['H', 'A', 'Z', 'G', 'W', 'U', 'J', 'E'], 'N': ['Y', 'B', 'X', 'M', 'O', 'A'], 'J': ['M', 'O', 'T', 'R'], 'W': ['D', 'T', 'F'], 'A': ['T', 'D', 'O', 'M'], 'L': ['R', 'E', 'K', 'G', 'U', 'C', 'Q', 'Z', 'T', 'X', 'P'], 'S': ['P', 'G', 'U', 'L', 'J', 'A', 'X', 'N', 'Z'], 'G': ['N', 'J', 'I', 'Q', 'D', 'M'], 'U': ['W', 'Q', 'V', 'Z', 'J', 'G', 'A', 'X', 'P', 'T', 'Y'], 'E': ['T', 'Z', 'N', 'U', 'V', 'P', 'C', 'B'], 'Z': ['T', 'Q', 'V', 'W', 'G', 'C', 'O', 'N', 'X'], 'V': ['Q', 'Y'], 'M': ['I'], 'Q': ['B', 'P', 'W', 'M'], 'D': ['Y', 'F'], 'X': ['M', 'H'], 'B': ['D'], 'Y': ['F'], 'T': ['M', 'F'], 'C': ['I']}\n"
          ],
          "name": "stdout"
        }
      ]
    },
    {
      "cell_type": "markdown",
      "metadata": {
        "id": "-rRpyAW8fDXX"
      },
      "source": [
        "## Part 1"
      ]
    },
    {
      "cell_type": "code",
      "metadata": {
        "colab": {
          "base_uri": "https://localhost:8080/",
          "height": 1000
        },
        "id": "-3jsRD1VMrtB",
        "outputId": "83fcec2f-18ea-47ff-b292-c8752d1ba282"
      },
      "source": [
        "from graphviz import Digraph\r\n",
        "\r\n",
        "g = Digraph('G', filename='viz')\r\n",
        "\r\n",
        "for a in to_directions:\r\n",
        "  for b in to_directions[a]:\r\n",
        "    g.edge(a, b)\r\n",
        "\r\n",
        "g.view()\r\n",
        "g"
      ],
      "execution_count": null,
      "outputs": [
        {
          "output_type": "execute_result",
          "data": {
            "text/plain": [
              "<graphviz.dot.Digraph at 0x7f3318649390>"
            ],
            "image/svg+xml": "<?xml version=\"1.0\" encoding=\"UTF-8\" standalone=\"no\"?>\n<!DOCTYPE svg PUBLIC \"-//W3C//DTD SVG 1.1//EN\"\n \"http://www.w3.org/Graphics/SVG/1.1/DTD/svg11.dtd\">\n<!-- Generated by graphviz version 2.40.1 (20161225.0304)\n -->\n<!-- Title: G Pages: 1 -->\n<svg width=\"1482pt\" height=\"908pt\"\n viewBox=\"0.00 0.00 1482.00 908.00\" xmlns=\"http://www.w3.org/2000/svg\" xmlns:xlink=\"http://www.w3.org/1999/xlink\">\n<g id=\"graph0\" class=\"graph\" transform=\"scale(1 1) rotate(0) translate(4 904)\">\n<title>G</title>\n<polygon fill=\"#ffffff\" stroke=\"transparent\" points=\"-4,4 -4,-904 1478,-904 1478,4 -4,4\"/>\n<!-- F -->\n<g id=\"node1\" class=\"node\">\n<title>F</title>\n<ellipse fill=\"none\" stroke=\"#000000\" cx=\"465\" cy=\"-882\" rx=\"27\" ry=\"18\"/>\n<text text-anchor=\"middle\" x=\"465\" y=\"-878.3\" font-family=\"Times,serif\" font-size=\"14.00\" fill=\"#000000\">F</text>\n</g>\n<!-- R -->\n<g id=\"node2\" class=\"node\">\n<title>R</title>\n<ellipse fill=\"none\" stroke=\"#000000\" cx=\"1419\" cy=\"-594\" rx=\"27\" ry=\"18\"/>\n<text text-anchor=\"middle\" x=\"1419\" y=\"-590.3\" font-family=\"Times,serif\" font-size=\"14.00\" fill=\"#000000\">R</text>\n</g>\n<!-- F&#45;&gt;R -->\n<g id=\"edge1\" class=\"edge\">\n<title>F&#45;&gt;R</title>\n<path fill=\"none\" stroke=\"#000000\" d=\"M492.1516,-881.0698C620.9143,-876.1985 1169.4869,-850.1469 1307,-756 1356.9013,-721.8356 1391.3115,-657.5496 1407.8161,-621.0725\"/>\n<polygon fill=\"#000000\" stroke=\"#000000\" points=\"1411.1733,-622.1326 1411.9944,-611.5696 1404.7654,-619.315 1411.1733,-622.1326\"/>\n</g>\n<!-- D -->\n<g id=\"node3\" class=\"node\">\n<title>D</title>\n<ellipse fill=\"none\" stroke=\"#000000\" cx=\"520\" cy=\"-738\" rx=\"27\" ry=\"18\"/>\n<text text-anchor=\"middle\" x=\"520\" y=\"-734.3\" font-family=\"Times,serif\" font-size=\"14.00\" fill=\"#000000\">D</text>\n</g>\n<!-- F&#45;&gt;D -->\n<g id=\"edge2\" class=\"edge\">\n<title>F&#45;&gt;D</title>\n<path fill=\"none\" stroke=\"#000000\" d=\"M478.0989,-865.9153C485.8441,-855.6387 495.2352,-841.7102 501,-828 509.3306,-808.1876 514.1533,-784.3321 516.8541,-766.1605\"/>\n<polygon fill=\"#000000\" stroke=\"#000000\" points=\"520.3302,-766.5721 518.2095,-756.1917 513.3941,-765.6289 520.3302,-766.5721\"/>\n</g>\n<!-- W -->\n<g id=\"node4\" class=\"node\">\n<title>W</title>\n<ellipse fill=\"none\" stroke=\"#000000\" cx=\"600\" cy=\"-594\" rx=\"27\" ry=\"18\"/>\n<text text-anchor=\"middle\" x=\"600\" y=\"-590.3\" font-family=\"Times,serif\" font-size=\"14.00\" fill=\"#000000\">W</text>\n</g>\n<!-- F&#45;&gt;W -->\n<g id=\"edge3\" class=\"edge\">\n<title>F&#45;&gt;W</title>\n<path fill=\"none\" stroke=\"#000000\" d=\"M448.247,-867.299C438.2332,-857.3467 426.4324,-843.2671 421,-828 404.6351,-782.0087 414.0108,-760.6767 441,-720 474.0694,-670.1596 533.2346,-630.9965 569.3203,-610.2778\"/>\n<polygon fill=\"#000000\" stroke=\"#000000\" points=\"571.4039,-613.1217 578.4063,-605.1708 567.974,-607.0195 571.4039,-613.1217\"/>\n</g>\n<!-- Y -->\n<g id=\"node5\" class=\"node\">\n<title>Y</title>\n<ellipse fill=\"none\" stroke=\"#000000\" cx=\"465\" cy=\"-810\" rx=\"27\" ry=\"18\"/>\n<text text-anchor=\"middle\" x=\"465\" y=\"-806.3\" font-family=\"Times,serif\" font-size=\"14.00\" fill=\"#000000\">Y</text>\n</g>\n<!-- F&#45;&gt;Y -->\n<g id=\"edge4\" class=\"edge\">\n<title>F&#45;&gt;Y</title>\n<path fill=\"none\" stroke=\"#000000\" d=\"M465,-863.8314C465,-856.131 465,-846.9743 465,-838.4166\"/>\n<polygon fill=\"#000000\" stroke=\"#000000\" points=\"468.5001,-838.4132 465,-828.4133 461.5001,-838.4133 468.5001,-838.4132\"/>\n</g>\n<!-- T -->\n<g id=\"node6\" class=\"node\">\n<title>T</title>\n<ellipse fill=\"none\" stroke=\"#000000\" cx=\"638\" cy=\"-666\" rx=\"27\" ry=\"18\"/>\n<text text-anchor=\"middle\" x=\"638\" y=\"-662.3\" font-family=\"Times,serif\" font-size=\"14.00\" fill=\"#000000\">T</text>\n</g>\n<!-- F&#45;&gt;T -->\n<g id=\"edge5\" class=\"edge\">\n<title>F&#45;&gt;T</title>\n<path fill=\"none\" stroke=\"#000000\" d=\"M450.8771,-866.2844C442.7465,-856.1468 433.3099,-842.2347 429,-828 424.3635,-812.6865 423.8734,-807.1564 429,-792 441.9025,-753.8548 451.4114,-743.6541 484,-720 519.4828,-694.2451 568.3416,-679.8952 601.4387,-672.573\"/>\n<polygon fill=\"#000000\" stroke=\"#000000\" points=\"602.5283,-675.9205 611.5937,-670.437 601.0874,-669.0704 602.5283,-675.9205\"/>\n</g>\n<!-- L -->\n<g id=\"node13\" class=\"node\">\n<title>L</title>\n<ellipse fill=\"none\" stroke=\"#000000\" cx=\"878\" cy=\"-90\" rx=\"27\" ry=\"18\"/>\n<text text-anchor=\"middle\" x=\"878\" y=\"-86.3\" font-family=\"Times,serif\" font-size=\"14.00\" fill=\"#000000\">L</text>\n</g>\n<!-- R&#45;&gt;L -->\n<g id=\"edge44\" class=\"edge\">\n<title>R&#45;&gt;L</title>\n<path fill=\"none\" stroke=\"#000000\" d=\"M1415.6042,-575.8541C1409.1837,-544.6473 1393.2175,-479.5852 1364,-432 1303.7685,-333.9037 1117.3182,-161.2773 1087,-144 1032.1035,-112.7165 958.864,-99.217 915.2532,-93.6457\"/>\n<polygon fill=\"#000000\" stroke=\"#000000\" points=\"915.4435,-90.1434 905.097,-92.4238 914.6073,-97.0933 915.4435,-90.1434\"/>\n</g>\n<!-- J -->\n<g id=\"node22\" class=\"node\">\n<title>J</title>\n<ellipse fill=\"none\" stroke=\"#000000\" cx=\"1343\" cy=\"-522\" rx=\"27\" ry=\"18\"/>\n<text text-anchor=\"middle\" x=\"1343\" y=\"-518.3\" font-family=\"Times,serif\" font-size=\"14.00\" fill=\"#000000\">J</text>\n</g>\n<!-- R&#45;&gt;J -->\n<g id=\"edge45\" class=\"edge\">\n<title>R&#45;&gt;J</title>\n<path fill=\"none\" stroke=\"#000000\" d=\"M1403.2528,-579.0816C1392.553,-568.945 1378.219,-555.3654 1366.2163,-543.9944\"/>\n<polygon fill=\"#000000\" stroke=\"#000000\" points=\"1368.3937,-541.236 1358.7271,-536.8993 1363.5795,-546.3177 1368.3937,-541.236\"/>\n</g>\n<!-- D&#45;&gt;W -->\n<g id=\"edge28\" class=\"edge\">\n<title>D&#45;&gt;W</title>\n<path fill=\"none\" stroke=\"#000000\" d=\"M529.4912,-720.9158C543.3843,-695.9082 569.3669,-649.1397 585.6154,-619.8924\"/>\n<polygon fill=\"#000000\" stroke=\"#000000\" points=\"588.7242,-621.5033 590.5211,-611.0619 582.6051,-618.1038 588.7242,-621.5033\"/>\n</g>\n<!-- P -->\n<g id=\"node8\" class=\"node\">\n<title>P</title>\n<ellipse fill=\"none\" stroke=\"#000000\" cx=\"266\" cy=\"-594\" rx=\"27\" ry=\"18\"/>\n<text text-anchor=\"middle\" x=\"266\" y=\"-590.3\" font-family=\"Times,serif\" font-size=\"14.00\" fill=\"#000000\">P</text>\n</g>\n<!-- D&#45;&gt;P -->\n<g id=\"edge29\" class=\"edge\">\n<title>D&#45;&gt;P</title>\n<path fill=\"none\" stroke=\"#000000\" d=\"M499.2141,-726.2159C454.1705,-700.6793 347.4373,-640.1692 295.4616,-610.7026\"/>\n<polygon fill=\"#000000\" stroke=\"#000000\" points=\"297.1423,-607.6322 286.7169,-605.745 293.69,-613.7216 297.1423,-607.6322\"/>\n</g>\n<!-- G -->\n<g id=\"node10\" class=\"node\">\n<title>G</title>\n<ellipse fill=\"none\" stroke=\"#000000\" cx=\"1077\" cy=\"-450\" rx=\"27\" ry=\"18\"/>\n<text text-anchor=\"middle\" x=\"1077\" y=\"-446.3\" font-family=\"Times,serif\" font-size=\"14.00\" fill=\"#000000\">G</text>\n</g>\n<!-- D&#45;&gt;G -->\n<g id=\"edge32\" class=\"edge\">\n<title>D&#45;&gt;G</title>\n<path fill=\"none\" stroke=\"#000000\" d=\"M546.077,-732.8527C582.813,-725.0665 651.4137,-708.5492 706,-684 844.6793,-621.6315 992.7349,-514.1925 1051.1676,-469.9378\"/>\n<polygon fill=\"#000000\" stroke=\"#000000\" points=\"1053.2893,-472.7215 1059.1267,-463.8798 1049.0496,-467.1514 1053.2893,-472.7215\"/>\n</g>\n<!-- O -->\n<g id=\"node12\" class=\"node\">\n<title>O</title>\n<ellipse fill=\"none\" stroke=\"#000000\" cx=\"824\" cy=\"-666\" rx=\"27\" ry=\"18\"/>\n<text text-anchor=\"middle\" x=\"824\" y=\"-662.3\" font-family=\"Times,serif\" font-size=\"14.00\" fill=\"#000000\">O</text>\n</g>\n<!-- D&#45;&gt;O -->\n<g id=\"edge33\" class=\"edge\">\n<title>D&#45;&gt;O</title>\n<path fill=\"none\" stroke=\"#000000\" d=\"M546.601,-734.4383C594.6134,-727.5934 698.607,-710.8566 783,-684 786.1113,-683.0099 789.3052,-681.8602 792.471,-680.6299\"/>\n<polygon fill=\"#000000\" stroke=\"#000000\" points=\"793.874,-683.8372 801.7729,-676.7761 791.1947,-677.3702 793.874,-683.8372\"/>\n</g>\n<!-- A -->\n<g id=\"node24\" class=\"node\">\n<title>A</title>\n<ellipse fill=\"none\" stroke=\"#000000\" cx=\"748\" cy=\"-594\" rx=\"27\" ry=\"18\"/>\n<text text-anchor=\"middle\" x=\"748\" y=\"-590.3\" font-family=\"Times,serif\" font-size=\"14.00\" fill=\"#000000\">A</text>\n</g>\n<!-- D&#45;&gt;A -->\n<g id=\"edge30\" class=\"edge\">\n<title>D&#45;&gt;A</title>\n<path fill=\"none\" stroke=\"#000000\" d=\"M546.2413,-733.3313C578.593,-726.6094 634.1723,-711.8335 674,-684 698.4437,-666.9176 719.2749,-639.6635 732.548,-619.6178\"/>\n<polygon fill=\"#000000\" stroke=\"#000000\" points=\"735.6389,-621.2821 738.1005,-610.9772 729.7499,-617.4978 735.6389,-621.2821\"/>\n</g>\n<!-- B -->\n<g id=\"node25\" class=\"node\">\n<title>B</title>\n<ellipse fill=\"none\" stroke=\"#000000\" cx=\"452\" cy=\"-594\" rx=\"27\" ry=\"18\"/>\n<text text-anchor=\"middle\" x=\"452\" y=\"-590.3\" font-family=\"Times,serif\" font-size=\"14.00\" fill=\"#000000\">B</text>\n</g>\n<!-- D&#45;&gt;B -->\n<g id=\"edge31\" class=\"edge\">\n<title>D&#45;&gt;B</title>\n<path fill=\"none\" stroke=\"#000000\" d=\"M499.511,-725.907C485.4899,-716.421 467.8876,-701.8527 459,-684 449.4832,-664.8833 448.1141,-640.6198 448.9154,-622.1041\"/>\n<polygon fill=\"#000000\" stroke=\"#000000\" points=\"452.4194,-622.1597 449.5928,-611.9488 445.4349,-621.6937 452.4194,-622.1597\"/>\n</g>\n<!-- Z -->\n<g id=\"node14\" class=\"node\">\n<title>Z</title>\n<ellipse fill=\"none\" stroke=\"#000000\" cx=\"880\" cy=\"-378\" rx=\"27\" ry=\"18\"/>\n<text text-anchor=\"middle\" x=\"880\" y=\"-374.3\" font-family=\"Times,serif\" font-size=\"14.00\" fill=\"#000000\">Z</text>\n</g>\n<!-- W&#45;&gt;Z -->\n<g id=\"edge70\" class=\"edge\">\n<title>W&#45;&gt;Z</title>\n<path fill=\"none\" stroke=\"#000000\" d=\"M617.9412,-580.1596C666.0455,-543.0506 798.0443,-441.223 854.1838,-397.9153\"/>\n<polygon fill=\"#000000\" stroke=\"#000000\" points=\"856.4282,-400.6044 862.2082,-391.7251 852.1525,-395.0619 856.4282,-400.6044\"/>\n</g>\n<!-- K -->\n<g id=\"node17\" class=\"node\">\n<title>K</title>\n<ellipse fill=\"none\" stroke=\"#000000\" cx=\"849\" cy=\"-162\" rx=\"27\" ry=\"18\"/>\n<text text-anchor=\"middle\" x=\"849\" y=\"-158.3\" font-family=\"Times,serif\" font-size=\"14.00\" fill=\"#000000\">K</text>\n</g>\n<!-- W&#45;&gt;K -->\n<g id=\"edge69\" class=\"edge\">\n<title>W&#45;&gt;K</title>\n<path fill=\"none\" stroke=\"#000000\" d=\"M607.3451,-576.5461C631.0337,-521.1705 709.1762,-345.4592 800,-216 807.7249,-204.989 817.4782,-193.8161 826.2454,-184.5124\"/>\n<polygon fill=\"#000000\" stroke=\"#000000\" points=\"828.8917,-186.8103 833.3118,-177.1815 823.8518,-181.9523 828.8917,-186.8103\"/>\n</g>\n<!-- U -->\n<g id=\"node21\" class=\"node\">\n<title>U</title>\n<ellipse fill=\"none\" stroke=\"#000000\" cx=\"608\" cy=\"-306\" rx=\"27\" ry=\"18\"/>\n<text text-anchor=\"middle\" x=\"608\" y=\"-302.3\" font-family=\"Times,serif\" font-size=\"14.00\" fill=\"#000000\">U</text>\n</g>\n<!-- W&#45;&gt;U -->\n<g id=\"edge68\" class=\"edge\">\n<title>W&#45;&gt;U</title>\n<path fill=\"none\" stroke=\"#000000\" d=\"M587.1398,-577.9166C579.5627,-567.6406 570.4268,-553.7122 565,-540 547.2087,-495.0461 541.9637,-479.2933 552,-432 559.7994,-395.2476 579.0842,-356.2001 592.8398,-331.4857\"/>\n<polygon fill=\"#000000\" stroke=\"#000000\" points=\"595.9064,-333.1734 597.8056,-322.7502 589.8209,-329.714 595.9064,-333.1734\"/>\n</g>\n<!-- Q -->\n<g id=\"node23\" class=\"node\">\n<title>Q</title>\n<ellipse fill=\"none\" stroke=\"#000000\" cx=\"473\" cy=\"-522\" rx=\"27\" ry=\"18\"/>\n<text text-anchor=\"middle\" x=\"473\" y=\"-518.3\" font-family=\"Times,serif\" font-size=\"14.00\" fill=\"#000000\">Q</text>\n</g>\n<!-- W&#45;&gt;Q -->\n<g id=\"edge71\" class=\"edge\">\n<title>W&#45;&gt;Q</title>\n<path fill=\"none\" stroke=\"#000000\" d=\"M579.3126,-582.2717C558.4637,-570.4519 526.0893,-552.0979 502.5417,-538.7481\"/>\n<polygon fill=\"#000000\" stroke=\"#000000\" points=\"504.104,-535.6104 493.6785,-533.7233 500.6516,-541.6999 504.104,-535.6104\"/>\n</g>\n<!-- Y&#45;&gt;D -->\n<g id=\"edge18\" class=\"edge\">\n<title>Y&#45;&gt;D</title>\n<path fill=\"none\" stroke=\"#000000\" d=\"M477.4804,-793.6621C484.5124,-784.4564 493.4347,-772.7764 501.2883,-762.4953\"/>\n<polygon fill=\"#000000\" stroke=\"#000000\" points=\"504.28,-764.3446 507.569,-754.2733 498.7172,-760.0953 504.28,-764.3446\"/>\n</g>\n<!-- Y&#45;&gt;O -->\n<g id=\"edge19\" class=\"edge\">\n<title>Y&#45;&gt;O</title>\n<path fill=\"none\" stroke=\"#000000\" d=\"M488.656,-800.9661C541.6197,-780.6661 673.6727,-729.64 783,-684 786.013,-682.7422 789.1409,-681.4126 792.265,-680.0686\"/>\n<polygon fill=\"#000000\" stroke=\"#000000\" points=\"793.7312,-683.2477 801.5067,-676.0511 790.9404,-676.8281 793.7312,-683.2477\"/>\n</g>\n<!-- N -->\n<g id=\"node19\" class=\"node\">\n<title>N</title>\n<ellipse fill=\"none\" stroke=\"#000000\" cx=\"887\" cy=\"-522\" rx=\"27\" ry=\"18\"/>\n<text text-anchor=\"middle\" x=\"887\" y=\"-518.3\" font-family=\"Times,serif\" font-size=\"14.00\" fill=\"#000000\">N</text>\n</g>\n<!-- Y&#45;&gt;N -->\n<g id=\"edge16\" class=\"edge\">\n<title>Y&#45;&gt;N</title>\n<path fill=\"none\" stroke=\"#000000\" d=\"M491.3874,-805.3646C571.7813,-790.6909 811.1641,-742.7404 860,-684 891.4695,-646.1481 892.7735,-585.674 890.2861,-550.3039\"/>\n<polygon fill=\"#000000\" stroke=\"#000000\" points=\"893.7603,-549.8515 889.4216,-540.1858 886.7857,-550.4475 893.7603,-549.8515\"/>\n</g>\n<!-- V -->\n<g id=\"node20\" class=\"node\">\n<title>V</title>\n<ellipse fill=\"none\" stroke=\"#000000\" cx=\"359\" cy=\"-450\" rx=\"27\" ry=\"18\"/>\n<text text-anchor=\"middle\" x=\"359\" y=\"-446.3\" font-family=\"Times,serif\" font-size=\"14.00\" fill=\"#000000\">V</text>\n</g>\n<!-- Y&#45;&gt;V -->\n<g id=\"edge17\" class=\"edge\">\n<title>Y&#45;&gt;V</title>\n<path fill=\"none\" stroke=\"#000000\" d=\"M438.2892,-806.9023C344.8085,-795.3301 38,-750.8838 38,-666 38,-666 38,-666 38,-594 38,-531.9943 239.9077,-477.7657 323.4601,-457.9796\"/>\n<polygon fill=\"#000000\" stroke=\"#000000\" points=\"324.3331,-461.37 333.2738,-455.6855 322.7396,-454.5538 324.3331,-461.37\"/>\n</g>\n<!-- Y&#45;&gt;U -->\n<g id=\"edge20\" class=\"edge\">\n<title>Y&#45;&gt;U</title>\n<path fill=\"none\" stroke=\"#000000\" d=\"M457.0568,-792.5247C440.4072,-753.8095 404.319,-657.7671 416,-576 431.293,-468.9488 452.6971,-437.6099 528,-360 542.4365,-345.1212 561.6038,-332.0116 577.5577,-322.4361\"/>\n<polygon fill=\"#000000\" stroke=\"#000000\" points=\"579.6376,-325.2752 586.5197,-317.2199 576.1163,-319.2253 579.6376,-325.2752\"/>\n</g>\n<!-- T&#45;&gt;W -->\n<g id=\"edge41\" class=\"edge\">\n<title>T&#45;&gt;W</title>\n<path fill=\"none\" stroke=\"#000000\" d=\"M628.9945,-648.937C624.5172,-640.4537 619.0048,-630.0092 613.993,-620.513\"/>\n<polygon fill=\"#000000\" stroke=\"#000000\" points=\"616.9678,-618.6509 609.2048,-611.4407 610.7771,-621.9182 616.9678,-618.6509\"/>\n</g>\n<!-- T&#45;&gt;L -->\n<g id=\"edge42\" class=\"edge\">\n<title>T&#45;&gt;L</title>\n<path fill=\"none\" stroke=\"#000000\" d=\"M611.1928,-663.5597C549.1284,-656.4546 394.5728,-630.1693 312,-540 262.2604,-485.6845 248.8501,-467.196 230,-396 217.415,-348.4669 235.6946,-333.6365 254,-288 267.1744,-255.1552 264.2006,-242.1904 288,-216 330.085,-169.6869 349.7116,-164.0233 409,-144 489.0861,-116.9528 744.5935,-98.4341 840.8445,-92.2598\"/>\n<polygon fill=\"#000000\" stroke=\"#000000\" points=\"841.2214,-95.743 850.98,-91.6176 840.7787,-88.757 841.2214,-95.743\"/>\n</g>\n<!-- T&#45;&gt;Z -->\n<g id=\"edge39\" class=\"edge\">\n<title>T&#45;&gt;Z</title>\n<path fill=\"none\" stroke=\"#000000\" d=\"M651.0258,-650.0062C665.7494,-631.9632 690.4736,-601.7718 712,-576 764.9298,-512.6315 828.1127,-438.5911 859.787,-401.5826\"/>\n<polygon fill=\"#000000\" stroke=\"#000000\" points=\"862.5696,-403.7143 866.4149,-393.8419 857.2523,-399.1615 862.5696,-403.7143\"/>\n</g>\n<!-- E -->\n<g id=\"node15\" class=\"node\">\n<title>E</title>\n<ellipse fill=\"none\" stroke=\"#000000\" cx=\"380\" cy=\"-234\" rx=\"27\" ry=\"18\"/>\n<text text-anchor=\"middle\" x=\"380\" y=\"-230.3\" font-family=\"Times,serif\" font-size=\"14.00\" fill=\"#000000\">E</text>\n</g>\n<!-- T&#45;&gt;E -->\n<g id=\"edge38\" class=\"edge\">\n<title>T&#45;&gt;E</title>\n<path fill=\"none\" stroke=\"#000000\" d=\"M617.6403,-653.568C548.5683,-611.3455 327.2093,-475.637 323,-468 284.6687,-398.4546 334.5806,-303.3118 362.9033,-258.8257\"/>\n<polygon fill=\"#000000\" stroke=\"#000000\" points=\"365.8821,-260.6654 368.4138,-250.3775 360.019,-256.8412 365.8821,-260.6654\"/>\n</g>\n<!-- T&#45;&gt;U -->\n<g id=\"edge43\" class=\"edge\">\n<title>T&#45;&gt;U</title>\n<path fill=\"none\" stroke=\"#000000\" d=\"M638.0276,-647.71C637.9529,-629.5126 637.559,-600.8009 636,-576 630.4341,-487.4538 617.9118,-383.1224 611.6747,-334.1092\"/>\n<polygon fill=\"#000000\" stroke=\"#000000\" points=\"615.1178,-333.4416 610.3731,-323.9685 608.1747,-334.3328 615.1178,-333.4416\"/>\n</g>\n<!-- T&#45;&gt;J -->\n<g id=\"edge40\" class=\"edge\">\n<title>T&#45;&gt;J</title>\n<path fill=\"none\" stroke=\"#000000\" d=\"M664.7627,-662.7069C754.1817,-651.6723 1037.4649,-616.4458 1046,-612 1065.2501,-601.9728 1059.8945,-586.3001 1079,-576 1167.37,-528.358 1205.7085,-568.4069 1302,-540 1305.2061,-539.0542 1308.492,-537.9182 1311.7403,-536.6827\"/>\n<polygon fill=\"#000000\" stroke=\"#000000\" points=\"1313.339,-539.8097 1321.2553,-532.7681 1310.6757,-533.3361 1313.339,-539.8097\"/>\n</g>\n<!-- T&#45;&gt;A -->\n<g id=\"edge37\" class=\"edge\">\n<title>T&#45;&gt;A</title>\n<path fill=\"none\" stroke=\"#000000\" d=\"M657.4126,-653.2936C674.742,-641.9507 700.3318,-625.201 719.8972,-612.3946\"/>\n<polygon fill=\"#000000\" stroke=\"#000000\" points=\"721.9613,-615.2267 728.4115,-606.8216 718.1276,-609.3698 721.9613,-615.2267\"/>\n</g>\n<!-- I -->\n<g id=\"node7\" class=\"node\">\n<title>I</title>\n<ellipse fill=\"none\" stroke=\"#000000\" cx=\"970\" cy=\"-810\" rx=\"27\" ry=\"18\"/>\n<text text-anchor=\"middle\" x=\"970\" y=\"-806.3\" font-family=\"Times,serif\" font-size=\"14.00\" fill=\"#000000\">I</text>\n</g>\n<!-- I&#45;&gt;P -->\n<g id=\"edge6\" class=\"edge\">\n<title>I&#45;&gt;P</title>\n<path fill=\"none\" stroke=\"#000000\" d=\"M942.9623,-808.4448C853.929,-803.0982 570.6728,-784.2329 484,-756 422.6735,-736.0235 409.4714,-722.8677 358,-684 331.201,-663.7632 304.1593,-636.2679 286.3964,-617.0116\"/>\n<polygon fill=\"#000000\" stroke=\"#000000\" points=\"288.9304,-614.596 279.6078,-609.5621 283.7565,-619.3109 288.9304,-614.596\"/>\n</g>\n<!-- M -->\n<g id=\"node9\" class=\"node\">\n<title>M</title>\n<ellipse fill=\"none\" stroke=\"#000000\" cx=\"934\" cy=\"-738\" rx=\"27\" ry=\"18\"/>\n<text text-anchor=\"middle\" x=\"934\" y=\"-734.3\" font-family=\"Times,serif\" font-size=\"14.00\" fill=\"#000000\">M</text>\n</g>\n<!-- I&#45;&gt;M -->\n<g id=\"edge7\" class=\"edge\">\n<title>I&#45;&gt;M</title>\n<path fill=\"none\" stroke=\"#000000\" d=\"M961.2854,-792.5708C957.0403,-784.0807 951.8464,-773.6929 947.1337,-764.2674\"/>\n<polygon fill=\"#000000\" stroke=\"#000000\" points=\"950.237,-762.6477 942.6343,-755.2687 943.976,-765.7782 950.237,-762.6477\"/>\n</g>\n<!-- I&#45;&gt;G -->\n<g id=\"edge8\" class=\"edge\">\n<title>I&#45;&gt;G</title>\n<path fill=\"none\" stroke=\"#000000\" d=\"M996.3253,-805.7757C1049.4218,-795.6771 1168.4956,-764.6788 1218,-684 1261.5504,-613.0247 1226.6678,-561.0398 1166,-504 1149.0688,-488.0813 1126.6921,-474.5303 1108.612,-464.9846\"/>\n<polygon fill=\"#000000\" stroke=\"#000000\" points=\"1110.0963,-461.8125 1099.6005,-460.3667 1106.9038,-468.0421 1110.0963,-461.8125\"/>\n</g>\n<!-- C -->\n<g id=\"node11\" class=\"node\">\n<title>C</title>\n<ellipse fill=\"none\" stroke=\"#000000\" cx=\"1006\" cy=\"-738\" rx=\"27\" ry=\"18\"/>\n<text text-anchor=\"middle\" x=\"1006\" y=\"-734.3\" font-family=\"Times,serif\" font-size=\"14.00\" fill=\"#000000\">C</text>\n</g>\n<!-- I&#45;&gt;C -->\n<g id=\"edge9\" class=\"edge\">\n<title>I&#45;&gt;C</title>\n<path fill=\"none\" stroke=\"#000000\" d=\"M978.7146,-792.5708C982.9597,-784.0807 988.1536,-773.6929 992.8663,-764.2674\"/>\n<polygon fill=\"#000000\" stroke=\"#000000\" points=\"996.024,-765.7782 997.3657,-755.2687 989.763,-762.6477 996.024,-765.7782\"/>\n</g>\n<!-- P&#45;&gt;L -->\n<g id=\"edge50\" class=\"edge\">\n<title>P&#45;&gt;L</title>\n<path fill=\"none\" stroke=\"#000000\" d=\"M239.7214,-589.4837C209.2924,-583.0882 159.1191,-568.8091 126,-540 91.4756,-509.9684 76,-495.7584 76,-450 76,-450 76,-450 76,-234 76,-192.6022 68.0654,-170.3431 100,-144 128.9096,-120.1522 689.9022,-97.1577 840.8628,-91.3832\"/>\n<polygon fill=\"#000000\" stroke=\"#000000\" points=\"841.1506,-94.8749 851.0103,-90.9974 840.8846,-87.8799 841.1506,-94.8749\"/>\n</g>\n<!-- P&#45;&gt;E -->\n<g id=\"edge49\" class=\"edge\">\n<title>P&#45;&gt;E</title>\n<path fill=\"none\" stroke=\"#000000\" d=\"M239.3103,-590.9646C209.551,-585.9952 162.7498,-573.0884 141,-540 117.9806,-504.98 131.687,-477.0077 176,-360 188.8151,-326.162 186.3217,-311.3055 214,-288 251.0298,-256.8204 306.4768,-243.5268 342.9416,-237.938\"/>\n<polygon fill=\"#000000\" stroke=\"#000000\" points=\"343.7361,-241.3607 353.1493,-236.4984 342.7585,-234.4293 343.7361,-241.3607\"/>\n</g>\n<!-- P&#45;&gt;U -->\n<g id=\"edge48\" class=\"edge\">\n<title>P&#45;&gt;U</title>\n<path fill=\"none\" stroke=\"#000000\" d=\"M281.7555,-578.8346C313.8592,-547.901 384.6953,-479.4691 395,-468 435.8243,-422.5629 431.4324,-397.0452 480,-360 507.8876,-338.7286 545.3956,-324.1988 572.5953,-315.6154\"/>\n<polygon fill=\"#000000\" stroke=\"#000000\" points=\"573.9223,-318.8703 582.4735,-312.6152 571.888,-312.1724 573.9223,-318.8703\"/>\n</g>\n<!-- P&#45;&gt;Q -->\n<g id=\"edge47\" class=\"edge\">\n<title>P&#45;&gt;Q</title>\n<path fill=\"none\" stroke=\"#000000\" d=\"M290.1507,-585.5998C327.0771,-572.7558 397.6808,-548.198 439.5258,-533.6432\"/>\n<polygon fill=\"#000000\" stroke=\"#000000\" points=\"440.708,-536.9377 449.0032,-530.3467 438.4084,-530.3263 440.708,-536.9377\"/>\n</g>\n<!-- S -->\n<g id=\"node26\" class=\"node\">\n<title>S</title>\n<ellipse fill=\"none\" stroke=\"#000000\" cx=\"1077\" cy=\"-18\" rx=\"27\" ry=\"18\"/>\n<text text-anchor=\"middle\" x=\"1077\" y=\"-14.3\" font-family=\"Times,serif\" font-size=\"14.00\" fill=\"#000000\">S</text>\n</g>\n<!-- P&#45;&gt;S -->\n<g id=\"edge46\" class=\"edge\">\n<title>P&#45;&gt;S</title>\n<path fill=\"none\" stroke=\"#000000\" d=\"M239.0307,-591.9982C171.4057,-585.3668 0,-557.9148 0,-450 0,-450 0,-450 0,-162 0,-54.7329 850.1733,-24.4022 1039.8021,-18.9711\"/>\n<polygon fill=\"#000000\" stroke=\"#000000\" points=\"1039.9409,-22.4687 1049.8387,-18.6894 1039.7444,-15.4715 1039.9409,-22.4687\"/>\n</g>\n<!-- M&#45;&gt;T -->\n<g id=\"edge26\" class=\"edge\">\n<title>M&#45;&gt;T</title>\n<path fill=\"none\" stroke=\"#000000\" d=\"M908.507,-731.799C855.6143,-718.9332 733.8484,-689.3145 673.3889,-674.6081\"/>\n<polygon fill=\"#000000\" stroke=\"#000000\" points=\"674.0806,-671.1744 663.5366,-672.2116 672.426,-677.976 674.0806,-671.1744\"/>\n</g>\n<!-- M&#45;&gt;G -->\n<g id=\"edge25\" class=\"edge\">\n<title>M&#45;&gt;G</title>\n<path fill=\"none\" stroke=\"#000000\" d=\"M954.8662,-726.2262C959.7168,-723.8704 964.9438,-721.6241 970,-720 1018.4188,-704.4471 1162.9892,-722.6854 1196,-684 1254.2901,-615.6898 1152.3623,-513.9163 1102.312,-470.6544\"/>\n<polygon fill=\"#000000\" stroke=\"#000000\" points=\"1104.3578,-467.7997 1094.472,-463.9891 1099.8237,-473.1329 1104.3578,-467.7997\"/>\n</g>\n<!-- X -->\n<g id=\"node18\" class=\"node\">\n<title>X</title>\n<ellipse fill=\"none\" stroke=\"#000000\" cx=\"1010\" cy=\"-594\" rx=\"27\" ry=\"18\"/>\n<text text-anchor=\"middle\" x=\"1010\" y=\"-590.3\" font-family=\"Times,serif\" font-size=\"14.00\" fill=\"#000000\">X</text>\n</g>\n<!-- M&#45;&gt;X -->\n<g id=\"edge23\" class=\"edge\">\n<title>M&#45;&gt;X</title>\n<path fill=\"none\" stroke=\"#000000\" d=\"M943.0166,-720.9158C956.158,-696.0165 980.685,-649.5442 996.1336,-620.2732\"/>\n<polygon fill=\"#000000\" stroke=\"#000000\" points=\"999.4228,-621.5395 1000.9951,-611.0619 993.2321,-618.2721 999.4228,-621.5395\"/>\n</g>\n<!-- M&#45;&gt;N -->\n<g id=\"edge22\" class=\"edge\">\n<title>M&#45;&gt;N</title>\n<path fill=\"none\" stroke=\"#000000\" d=\"M930.0736,-719.9555C921.8628,-682.2205 902.8303,-594.7518 893.0465,-549.7882\"/>\n<polygon fill=\"#000000\" stroke=\"#000000\" points=\"896.4284,-548.8684 890.8821,-539.8413 889.5884,-550.3568 896.4284,-548.8684\"/>\n</g>\n<!-- M&#45;&gt;J -->\n<g id=\"edge21\" class=\"edge\">\n<title>M&#45;&gt;J</title>\n<path fill=\"none\" stroke=\"#000000\" d=\"M954.8414,-726.1477C959.6934,-723.796 964.9271,-721.5712 970,-720 1081.8559,-685.3552 1131.2616,-745.3534 1231,-684 1282.7766,-652.1499 1316.6551,-586.4064 1332.5235,-549.2067\"/>\n<polygon fill=\"#000000\" stroke=\"#000000\" points=\"1335.9403,-550.1022 1336.5215,-539.5233 1329.4701,-547.4308 1335.9403,-550.1022\"/>\n</g>\n<!-- M&#45;&gt;Q -->\n<g id=\"edge24\" class=\"edge\">\n<title>M&#45;&gt;Q</title>\n<path fill=\"none\" stroke=\"#000000\" d=\"M907.1457,-736.1224C837.6971,-730.8793 653.966,-714.4323 602,-684 546.4655,-651.4779 505.5225,-585.2306 485.9176,-548.3226\"/>\n<polygon fill=\"#000000\" stroke=\"#000000\" points=\"488.8864,-546.4444 481.1778,-539.176 482.6713,-549.6651 488.8864,-546.4444\"/>\n</g>\n<!-- M&#45;&gt;A -->\n<g id=\"edge27\" class=\"edge\">\n<title>M&#45;&gt;A</title>\n<path fill=\"none\" stroke=\"#000000\" d=\"M907.2677,-734.5021C875.211,-729.01 821.6075,-715.5237 788,-684 770.2648,-667.3644 759.8901,-641.438 754.1712,-621.6767\"/>\n<polygon fill=\"#000000\" stroke=\"#000000\" points=\"757.5462,-620.7491 751.5906,-611.9866 750.782,-622.5505 757.5462,-620.7491\"/>\n</g>\n<!-- G&#45;&gt;L -->\n<g id=\"edge85\" class=\"edge\">\n<title>G&#45;&gt;L</title>\n<path fill=\"none\" stroke=\"#000000\" d=\"M1069.3101,-432.6554C1058.2064,-405.9874 1039,-353.0576 1039,-306 1039,-306 1039,-306 1039,-234 1039,-166.2554 958.8278,-122.414 911.6329,-102.4749\"/>\n<polygon fill=\"#000000\" stroke=\"#000000\" points=\"912.6844,-99.1237 902.1033,-98.5829 910.0377,-105.6041 912.6844,-99.1237\"/>\n</g>\n<!-- G&#45;&gt;Z -->\n<g id=\"edge88\" class=\"edge\">\n<title>G&#45;&gt;Z</title>\n<path fill=\"none\" stroke=\"#000000\" d=\"M1054.5797,-439.7686C1048.5842,-437.1394 1042.0799,-434.3824 1036,-432 994.5849,-415.7712 946.0482,-399.3723 914.2473,-388.9745\"/>\n<polygon fill=\"#000000\" stroke=\"#000000\" points=\"915.1329,-385.5821 904.5407,-385.8173 912.9677,-392.2389 915.1329,-385.5821\"/>\n</g>\n<!-- G&#45;&gt;K -->\n<g id=\"edge86\" class=\"edge\">\n<title>G&#45;&gt;K</title>\n<path fill=\"none\" stroke=\"#000000\" d=\"M1061.4655,-434.8714C1050.8493,-424.2947 1036.6488,-409.671 1025,-396 962.6953,-322.8792 896.4673,-230.1972 866.0611,-186.6813\"/>\n<polygon fill=\"#000000\" stroke=\"#000000\" points=\"868.8874,-184.6151 860.2998,-178.4099 863.1434,-188.616 868.8874,-184.6151\"/>\n</g>\n<!-- G&#45;&gt;U -->\n<g id=\"edge87\" class=\"edge\">\n<title>G&#45;&gt;U</title>\n<path fill=\"none\" stroke=\"#000000\" d=\"M1056.9908,-437.6956C1020.6489,-415.5381 944.8892,-370.2727 916,-360 822.1013,-326.6106 704.4919,-313.3399 645.461,-308.5034\"/>\n<polygon fill=\"#000000\" stroke=\"#000000\" points=\"645.3819,-304.9866 635.1393,-307.6955 644.8357,-311.9653 645.3819,-304.9866\"/>\n</g>\n<!-- G&#45;&gt;S -->\n<g id=\"edge84\" class=\"edge\">\n<title>G&#45;&gt;S</title>\n<path fill=\"none\" stroke=\"#000000\" d=\"M1078.0053,-431.8407C1080.7728,-380.8293 1088.4656,-231.8746 1091,-108 1091.3273,-92.0033 1093.024,-87.8715 1091,-72 1089.8851,-63.2575 1087.7939,-53.907 1085.5612,-45.4855\"/>\n<polygon fill=\"#000000\" stroke=\"#000000\" points=\"1088.9064,-44.452 1082.8239,-35.7771 1082.169,-46.3517 1088.9064,-44.452\"/>\n</g>\n<!-- C&#45;&gt;O -->\n<g id=\"edge10\" class=\"edge\">\n<title>C&#45;&gt;O</title>\n<path fill=\"none\" stroke=\"#000000\" d=\"M984.4792,-726.7604C979.7541,-724.4277 974.7445,-722.0562 970,-720 932.2381,-703.6345 887.7386,-687.6309 857.8799,-677.3497\"/>\n<polygon fill=\"#000000\" stroke=\"#000000\" points=\"858.9407,-674.0136 848.3461,-674.0902 856.6761,-680.6371 858.9407,-674.0136\"/>\n</g>\n<!-- C&#45;&gt;L -->\n<g id=\"edge11\" class=\"edge\">\n<title>C&#45;&gt;L</title>\n<path fill=\"none\" stroke=\"#000000\" d=\"M1032.8426,-735.6465C1132.2866,-726.2009 1474,-686.9788 1474,-594 1474,-594 1474,-594 1474,-450 1474,-187.5075 1045.1869,-111.3056 915.0204,-94.2212\"/>\n<polygon fill=\"#000000\" stroke=\"#000000\" points=\"915.1283,-90.7068 904.7667,-92.9177 914.2455,-97.6509 915.1283,-90.7068\"/>\n</g>\n<!-- C&#45;&gt;Z -->\n<g id=\"edge12\" class=\"edge\">\n<title>C&#45;&gt;Z</title>\n<path fill=\"none\" stroke=\"#000000\" d=\"M1016.0048,-720.9026C1032.0509,-691.2788 1060.3495,-628.5386 1046,-576 1026.4193,-504.3079 1012.0923,-485.9698 961,-432 952.7377,-423.2724 928.6567,-407.576 908.8829,-395.3474\"/>\n<polygon fill=\"#000000\" stroke=\"#000000\" points=\"910.5283,-392.2508 900.173,-390.0103 906.8709,-398.2194 910.5283,-392.2508\"/>\n</g>\n<!-- C&#45;&gt;E -->\n<g id=\"edge13\" class=\"edge\">\n<title>C&#45;&gt;E</title>\n<path fill=\"none\" stroke=\"#000000\" d=\"M985.5856,-726.1838C980.6251,-723.7699 975.2373,-721.5093 970,-720 812.0901,-674.4929 761.8795,-722.0127 602,-684 515.7599,-663.4957 494.3202,-653.5178 416,-612 366.3292,-585.6693 349.9675,-581.4604 312,-540 235.2666,-456.2073 202.2447,-379.94 269,-288 286.8169,-263.4614 318.8513,-249.5515 343.9421,-242.0175\"/>\n<polygon fill=\"#000000\" stroke=\"#000000\" points=\"345.1675,-245.3096 353.8622,-239.2555 343.2898,-238.5661 345.1675,-245.3096\"/>\n</g>\n<!-- O&#45;&gt;Z -->\n<g id=\"edge53\" class=\"edge\">\n<title>O&#45;&gt;Z</title>\n<path fill=\"none\" stroke=\"#000000\" d=\"M826.6392,-647.9554C831.1076,-617.9682 840.6882,-556.0219 851,-504 857.7214,-470.0915 866.8505,-431.3826 873.0583,-405.9195\"/>\n<polygon fill=\"#000000\" stroke=\"#000000\" points=\"876.5402,-406.4164 875.5244,-395.8703 869.7419,-404.748 876.5402,-406.4164\"/>\n</g>\n<!-- O&#45;&gt;N -->\n<g id=\"edge52\" class=\"edge\">\n<title>O&#45;&gt;N</title>\n<path fill=\"none\" stroke=\"#000000\" d=\"M831.5993,-648.6302C842.4783,-623.7638 862.5843,-577.8072 875.3499,-548.6288\"/>\n<polygon fill=\"#000000\" stroke=\"#000000\" points=\"878.5721,-549.9958 879.3738,-539.4314 872.159,-547.1901 878.5721,-549.9958\"/>\n</g>\n<!-- O&#45;&gt;J -->\n<g id=\"edge51\" class=\"edge\">\n<title>O&#45;&gt;J</title>\n<path fill=\"none\" stroke=\"#000000\" d=\"M850.4806,-662.0764C897.2752,-654.7726 997.3576,-637.4843 1079,-612 1118.5538,-599.6535 1125.7558,-589.2977 1165,-576 1224.626,-555.796 1242.5505,-560.7174 1302,-540 1305.0832,-538.9256 1308.2582,-537.7192 1311.4121,-536.4531\"/>\n<polygon fill=\"#000000\" stroke=\"#000000\" points=\"1312.836,-539.6512 1320.6967,-532.5477 1310.1219,-533.1987 1312.836,-539.6512\"/>\n</g>\n<!-- O&#45;&gt;A -->\n<g id=\"edge54\" class=\"edge\">\n<title>O&#45;&gt;A</title>\n<path fill=\"none\" stroke=\"#000000\" d=\"M808.2528,-651.0816C797.553,-640.945 783.219,-627.3654 771.2163,-615.9944\"/>\n<polygon fill=\"#000000\" stroke=\"#000000\" points=\"773.3937,-613.236 763.7271,-608.8993 768.5795,-618.3177 773.3937,-613.236\"/>\n</g>\n<!-- L&#45;&gt;S -->\n<g id=\"edge101\" class=\"edge\">\n<title>L&#45;&gt;S</title>\n<path fill=\"none\" stroke=\"#000000\" d=\"M902.004,-81.3151C937.3599,-68.5231 1003.5676,-44.5685 1043.6325,-30.0727\"/>\n<polygon fill=\"#000000\" stroke=\"#000000\" points=\"1045.0079,-33.2971 1053.2206,-26.6036 1042.6263,-26.7147 1045.0079,-33.2971\"/>\n</g>\n<!-- Z&#45;&gt;L -->\n<g id=\"edge92\" class=\"edge\">\n<title>Z&#45;&gt;L</title>\n<path fill=\"none\" stroke=\"#000000\" d=\"M881.4517,-359.7724C884.3572,-320.361 890.1822,-224.2888 885,-144 884.452,-135.5096 883.4241,-126.3148 882.3215,-117.9603\"/>\n<polygon fill=\"#000000\" stroke=\"#000000\" points=\"885.7717,-117.3599 880.9155,-107.9435 878.8396,-118.333 885.7717,-117.3599\"/>\n</g>\n<!-- Z&#45;&gt;E -->\n<g id=\"edge91\" class=\"edge\">\n<title>Z&#45;&gt;E</title>\n<path fill=\"none\" stroke=\"#000000\" d=\"M857.3101,-367.9214C815.7295,-349.7754 724.2112,-311.3299 644,-288 564.1515,-264.7756 467.9082,-247.7683 416.5344,-239.5414\"/>\n<polygon fill=\"#000000\" stroke=\"#000000\" points=\"416.9993,-236.0715 406.5754,-237.967 415.9061,-242.9857 416.9993,-236.0715\"/>\n</g>\n<!-- Z&#45;&gt;K -->\n<g id=\"edge90\" class=\"edge\">\n<title>Z&#45;&gt;K</title>\n<path fill=\"none\" stroke=\"#000000\" d=\"M877.4103,-359.9555C872.0081,-322.3144 859.5036,-235.1867 853.0364,-190.1246\"/>\n<polygon fill=\"#000000\" stroke=\"#000000\" points=\"856.4894,-189.5464 851.6042,-180.1451 849.5604,-190.5409 856.4894,-189.5464\"/>\n</g>\n<!-- Z&#45;&gt;U -->\n<g id=\"edge89\" class=\"edge\">\n<title>Z&#45;&gt;U</title>\n<path fill=\"none\" stroke=\"#000000\" d=\"M854.8984,-371.3555C806.2413,-358.4756 698.9845,-330.0841 643.2232,-315.3238\"/>\n<polygon fill=\"#000000\" stroke=\"#000000\" points=\"643.999,-311.9087 633.4363,-312.7331 642.2077,-318.6756 643.999,-311.9087\"/>\n</g>\n<!-- Z&#45;&gt;S -->\n<g id=\"edge93\" class=\"edge\">\n<title>Z&#45;&gt;S</title>\n<path fill=\"none\" stroke=\"#000000\" d=\"M895.6117,-363.2332C919.6547,-338.8121 963,-287.3827 963,-234 963,-234 963,-234 963,-162 963,-106.9719 1014.808,-60.6947 1048.5729,-36.3777\"/>\n<polygon fill=\"#000000\" stroke=\"#000000\" points=\"1050.9472,-38.9888 1057.1427,-30.3942 1046.9398,-33.2493 1050.9472,-38.9888\"/>\n</g>\n<!-- E&#45;&gt;L -->\n<g id=\"edge98\" class=\"edge\">\n<title>E&#45;&gt;L</title>\n<path fill=\"none\" stroke=\"#000000\" d=\"M404.347,-225.8358C453.5313,-209.4547 568.3695,-171.7724 666,-144 727.7603,-126.4314 800.4056,-108.5167 842.6244,-98.3751\"/>\n<polygon fill=\"#000000\" stroke=\"#000000\" points=\"843.5132,-101.7613 852.4238,-96.0296 841.8837,-94.9536 843.5132,-101.7613\"/>\n</g>\n<!-- E&#45;&gt;K -->\n<g id=\"edge99\" class=\"edge\">\n<title>E&#45;&gt;K</title>\n<path fill=\"none\" stroke=\"#000000\" d=\"M406.5593,-229.9227C485.8712,-217.7468 721.1185,-181.6321 812.3067,-167.6331\"/>\n<polygon fill=\"#000000\" stroke=\"#000000\" points=\"813.089,-171.0541 822.4421,-166.0771 812.0267,-164.1351 813.089,-171.0541\"/>\n</g>\n<!-- H -->\n<g id=\"node16\" class=\"node\">\n<title>H</title>\n<ellipse fill=\"none\" stroke=\"#000000\" cx=\"1160\" cy=\"-666\" rx=\"27\" ry=\"18\"/>\n<text text-anchor=\"middle\" x=\"1160\" y=\"-662.3\" font-family=\"Times,serif\" font-size=\"14.00\" fill=\"#000000\">H</text>\n</g>\n<!-- H&#45;&gt;K -->\n<g id=\"edge14\" class=\"edge\">\n<title>H&#45;&gt;K</title>\n<path fill=\"none\" stroke=\"#000000\" d=\"M1186.0298,-660.1899C1251.633,-644.1083 1415.9672,-594.1369 1379,-504 1291.4226,-290.4607 988.8124,-196.7214 884.5975,-170.2599\"/>\n<polygon fill=\"#000000\" stroke=\"#000000\" points=\"885.128,-166.7853 874.5789,-167.7695 883.4392,-173.5786 885.128,-166.7853\"/>\n</g>\n<!-- H&#45;&gt;X -->\n<g id=\"edge15\" class=\"edge\">\n<title>H&#45;&gt;X</title>\n<path fill=\"none\" stroke=\"#000000\" d=\"M1137.867,-655.3762C1112.3873,-643.1459 1070.3445,-622.9654 1041.4687,-609.105\"/>\n<polygon fill=\"#000000\" stroke=\"#000000\" points=\"1042.7536,-605.8395 1032.2238,-604.6674 1039.7245,-612.1501 1042.7536,-605.8395\"/>\n</g>\n<!-- K&#45;&gt;L -->\n<g id=\"edge100\" class=\"edge\">\n<title>K&#45;&gt;L</title>\n<path fill=\"none\" stroke=\"#000000\" d=\"M856.0201,-144.5708C859.3439,-136.3187 863.3897,-126.2738 867.0999,-117.0623\"/>\n<polygon fill=\"#000000\" stroke=\"#000000\" points=\"870.4544,-118.1018 870.944,-107.5182 863.9613,-115.4864 870.4544,-118.1018\"/>\n</g>\n<!-- X&#45;&gt;L -->\n<g id=\"edge58\" class=\"edge\">\n<title>X&#45;&gt;L</title>\n<path fill=\"none\" stroke=\"#000000\" d=\"M1030.3597,-581.7885C1034.1637,-579.726 1038.1537,-577.7042 1042,-576 1088.2593,-555.5042 1112.1515,-573.5782 1150,-540 1235.7534,-463.9218 1255.8783,-390.7275 1205,-288 1147.3071,-171.5131 986.4749,-117.3692 914.1011,-98.3602\"/>\n<polygon fill=\"#000000\" stroke=\"#000000\" points=\"914.6424,-94.8863 904.0877,-95.8073 912.913,-101.6693 914.6424,-94.8863\"/>\n</g>\n<!-- X&#45;&gt;Z -->\n<g id=\"edge59\" class=\"edge\">\n<title>X&#45;&gt;Z</title>\n<path fill=\"none\" stroke=\"#000000\" d=\"M1004.5573,-576.2845C994.4692,-545.1752 970.7765,-479.5235 937,-432 928.1899,-419.6042 916.2335,-407.757 905.5461,-398.3344\"/>\n<polygon fill=\"#000000\" stroke=\"#000000\" points=\"907.5724,-395.4624 897.6939,-391.6326 903.028,-400.7867 907.5724,-395.4624\"/>\n</g>\n<!-- X&#45;&gt;N -->\n<g id=\"edge55\" class=\"edge\">\n<title>X&#45;&gt;N</title>\n<path fill=\"none\" stroke=\"#000000\" d=\"M989.6891,-582.1107C969.6588,-570.3857 938.8404,-552.3456 916.189,-539.0862\"/>\n<polygon fill=\"#000000\" stroke=\"#000000\" points=\"917.7394,-535.9383 907.3411,-533.907 914.2031,-541.9794 917.7394,-535.9383\"/>\n</g>\n<!-- X&#45;&gt;U -->\n<g id=\"edge57\" class=\"edge\">\n<title>X&#45;&gt;U</title>\n<path fill=\"none\" stroke=\"#000000\" d=\"M996.8538,-578.2355C980.6386,-559.3298 951.6861,-527.2807 923,-504 872.3436,-462.8889 705.5057,-363.3785 637.3737,-323.226\"/>\n<polygon fill=\"#000000\" stroke=\"#000000\" points=\"638.8308,-320.0225 628.4374,-317.9665 635.2802,-326.0552 638.8308,-320.0225\"/>\n</g>\n<!-- X&#45;&gt;S -->\n<g id=\"edge56\" class=\"edge\">\n<title>X&#45;&gt;S</title>\n<path fill=\"none\" stroke=\"#000000\" d=\"M1029.9211,-581.7555C1033.837,-579.6485 1037.9795,-577.6194 1042,-576 1101.1947,-552.1571 1128.3075,-576 1181,-540 1238.8285,-500.4911 1239.2234,-465.7977 1245,-396 1257.6913,-242.6541 1206.714,-201.1047 1123,-72 1115.9522,-61.1308 1106.9299,-50.0768 1098.7457,-40.825\"/>\n<polygon fill=\"#000000\" stroke=\"#000000\" points=\"1101.1498,-38.2658 1091.8399,-33.2085 1095.964,-42.9677 1101.1498,-38.2658\"/>\n</g>\n<!-- N&#45;&gt;G -->\n<g id=\"edge64\" class=\"edge\">\n<title>N&#45;&gt;G</title>\n<path fill=\"none\" stroke=\"#000000\" d=\"M910.6795,-513.0267C944.1931,-500.3268 1005.6132,-477.0518 1043.7049,-462.6171\"/>\n<polygon fill=\"#000000\" stroke=\"#000000\" points=\"1045.2104,-465.7895 1053.3213,-458.973 1042.7299,-459.2437 1045.2104,-465.7895\"/>\n</g>\n<!-- N&#45;&gt;Z -->\n<g id=\"edge67\" class=\"edge\">\n<title>N&#45;&gt;Z</title>\n<path fill=\"none\" stroke=\"#000000\" d=\"M900.7363,-506.2189C908.6432,-496.0566 917.8179,-482.1416 922,-468 926.5374,-452.6569 927.1926,-447.134 922,-432 918.0456,-420.4746 910.5152,-409.5143 902.9102,-400.5171\"/>\n<polygon fill=\"#000000\" stroke=\"#000000\" points=\"905.2971,-397.9373 896.0054,-392.8465 900.0944,-402.6205 905.2971,-397.9373\"/>\n</g>\n<!-- N&#45;&gt;E -->\n<g id=\"edge66\" class=\"edge\">\n<title>N&#45;&gt;E</title>\n<path fill=\"none\" stroke=\"#000000\" d=\"M866.1798,-510.1731C786.7339,-465.0441 502.4662,-303.5666 409.5898,-250.8084\"/>\n<polygon fill=\"#000000\" stroke=\"#000000\" points=\"411.1378,-247.6625 400.714,-245.7665 407.6803,-253.7491 411.1378,-247.6625\"/>\n</g>\n<!-- N&#45;&gt;S -->\n<g id=\"edge65\" class=\"edge\">\n<title>N&#45;&gt;S</title>\n<path fill=\"none\" stroke=\"#000000\" d=\"M913.9712,-519.6468C968.4323,-514.278 1088.4457,-499.1125 1113,-468 1120.8572,-458.0442 1180.8362,-368.6455 1105,-72 1102.5029,-62.2323 1097.9743,-52.2399 1093.2765,-43.5488\"/>\n<polygon fill=\"#000000\" stroke=\"#000000\" points=\"1096.2128,-41.6334 1088.2008,-34.701 1090.141,-45.1167 1096.2128,-41.6334\"/>\n</g>\n<!-- V&#45;&gt;Z -->\n<g id=\"edge78\" class=\"edge\">\n<title>V&#45;&gt;Z</title>\n<path fill=\"none\" stroke=\"#000000\" d=\"M385.5527,-446.3305C471.784,-434.4137 744.1142,-396.7788 843.3589,-383.0636\"/>\n<polygon fill=\"#000000\" stroke=\"#000000\" points=\"844.074,-386.4982 853.5007,-381.6621 843.1157,-379.5641 844.074,-386.4982\"/>\n</g>\n<!-- V&#45;&gt;E -->\n<g id=\"edge79\" class=\"edge\">\n<title>V&#45;&gt;E</title>\n<path fill=\"none\" stroke=\"#000000\" d=\"M360.7543,-431.9555C364.4139,-394.3144 372.8846,-307.1867 377.2657,-262.1246\"/>\n<polygon fill=\"#000000\" stroke=\"#000000\" points=\"380.7517,-262.4369 378.2359,-252.1451 373.7846,-261.7594 380.7517,-262.4369\"/>\n</g>\n<!-- V&#45;&gt;U -->\n<g id=\"edge77\" class=\"edge\">\n<title>V&#45;&gt;U</title>\n<path fill=\"none\" stroke=\"#000000\" d=\"M370.2552,-433.3114C384.6488,-413.1846 411.4034,-379.6189 442,-360 482.4023,-334.0936 536.3442,-319.5743 571.6122,-312.2677\"/>\n<polygon fill=\"#000000\" stroke=\"#000000\" points=\"572.3514,-315.6893 581.4795,-310.3108 570.9896,-308.8231 572.3514,-315.6893\"/>\n</g>\n<!-- U&#45;&gt;L -->\n<g id=\"edge95\" class=\"edge\">\n<title>U&#45;&gt;L</title>\n<path fill=\"none\" stroke=\"#000000\" d=\"M621.4025,-290.0754C637.6023,-271.2962 666.1662,-239.6485 694,-216 745.1357,-172.5534 811.3665,-130.1839 848.8165,-107.346\"/>\n<polygon fill=\"#000000\" stroke=\"#000000\" points=\"850.9501,-110.1458 857.6908,-101.9718 847.324,-104.1581 850.9501,-110.1458\"/>\n</g>\n<!-- U&#45;&gt;E -->\n<g id=\"edge97\" class=\"edge\">\n<title>U&#45;&gt;E</title>\n<path fill=\"none\" stroke=\"#000000\" d=\"M583.166,-298.1577C542.1988,-285.2207 460.3876,-259.3856 414.0543,-244.754\"/>\n<polygon fill=\"#000000\" stroke=\"#000000\" points=\"415.0481,-241.3975 404.4583,-241.7237 412.9402,-248.0726 415.0481,-241.3975\"/>\n</g>\n<!-- U&#45;&gt;K -->\n<g id=\"edge96\" class=\"edge\">\n<title>U&#45;&gt;K</title>\n<path fill=\"none\" stroke=\"#000000\" d=\"M628.4622,-293.8083C646.0818,-283.1556 672.0602,-267.0774 694,-252 715.9774,-236.8968 719.3422,-230.0618 742,-216 766.3333,-200.8984 795.4298,-186.4265 817.1344,-176.2722\"/>\n<polygon fill=\"#000000\" stroke=\"#000000\" points=\"818.6372,-179.4335 826.2451,-172.0599 815.6995,-173.0797 818.6372,-179.4335\"/>\n</g>\n<!-- U&#45;&gt;S -->\n<g id=\"edge94\" class=\"edge\">\n<title>U&#45;&gt;S</title>\n<path fill=\"none\" stroke=\"#000000\" d=\"M614.1506,-288.1855C621.3041,-269.0783 634.4163,-238.4588 652,-216 717.3189,-132.5715 745.0673,-114.7891 842,-72 908.4012,-42.6884 992.6566,-28.3107 1040.1214,-22.0836\"/>\n<polygon fill=\"#000000\" stroke=\"#000000\" points=\"1040.7525,-25.5319 1050.2357,-20.8077 1039.8763,-18.5869 1040.7525,-25.5319\"/>\n</g>\n<!-- J&#45;&gt;G -->\n<g id=\"edge80\" class=\"edge\">\n<title>J&#45;&gt;G</title>\n<path fill=\"none\" stroke=\"#000000\" d=\"M1317.9754,-515.2264C1270.3475,-502.3347 1166.5661,-474.2435 1112.0503,-459.4873\"/>\n<polygon fill=\"#000000\" stroke=\"#000000\" points=\"1112.7191,-456.0424 1102.1519,-456.808 1110.8901,-462.7993 1112.7191,-456.0424\"/>\n</g>\n<!-- J&#45;&gt;K -->\n<g id=\"edge83\" class=\"edge\">\n<title>J&#45;&gt;K</title>\n<path fill=\"none\" stroke=\"#000000\" d=\"M1331.7259,-505.1169C1310.0608,-473.6033 1259.8717,-404.9566 1205,-360 1098.3296,-272.6044 947.6207,-203.4727 881.8455,-175.4856\"/>\n<polygon fill=\"#000000\" stroke=\"#000000\" points=\"882.979,-172.1651 872.4048,-171.5039 880.2586,-178.6149 882.979,-172.1651\"/>\n</g>\n<!-- J&#45;&gt;U -->\n<g id=\"edge81\" class=\"edge\">\n<title>J&#45;&gt;U</title>\n<path fill=\"none\" stroke=\"#000000\" d=\"M1321.9109,-510.7081C1265.5655,-481.0486 1106.1238,-400.4435 964,-360 850.6599,-327.7473 711.2082,-313.7137 645.554,-308.5558\"/>\n<polygon fill=\"#000000\" stroke=\"#000000\" points=\"645.5291,-305.0439 635.2924,-307.7752 644.9982,-312.0237 645.5291,-305.0439\"/>\n</g>\n<!-- J&#45;&gt;S -->\n<g id=\"edge82\" class=\"edge\">\n<title>J&#45;&gt;S</title>\n<path fill=\"none\" stroke=\"#000000\" d=\"M1350.9897,-504.5625C1370.5024,-460.3284 1419,-339.7503 1419,-234 1419,-234 1419,-234 1419,-162 1419,-120.6022 1425.5933,-99.8896 1395,-72 1354.4224,-35.0085 1189.4063,-23.0028 1114.4121,-19.4099\"/>\n<polygon fill=\"#000000\" stroke=\"#000000\" points=\"1114.1744,-15.8956 1104.0261,-18.9389 1113.8572,-22.8885 1114.1744,-15.8956\"/>\n</g>\n<!-- Q&#45;&gt;G -->\n<g id=\"edge75\" class=\"edge\">\n<title>Q&#45;&gt;G</title>\n<path fill=\"none\" stroke=\"#000000\" d=\"M499.7325,-518.8133C596.4946,-507.2788 928.6234,-467.6873 1040.146,-454.3932\"/>\n<polygon fill=\"#000000\" stroke=\"#000000\" points=\"1040.7192,-457.8497 1050.2346,-453.1906 1039.8906,-450.8989 1040.7192,-457.8497\"/>\n</g>\n<!-- Q&#45;&gt;L -->\n<g id=\"edge76\" class=\"edge\">\n<title>Q&#45;&gt;L</title>\n<path fill=\"none\" stroke=\"#000000\" d=\"M446.0931,-519.1743C412.9488,-514.3209 356.884,-501.4392 323,-468 263.5518,-409.3322 236.2517,-364.8346 269,-288 287.1174,-245.4927 304.7546,-240.3908 344,-216 423.8844,-166.3523 451.9503,-167.5874 543,-144 649.4707,-116.4177 778.8208,-100.3456 841.0502,-93.6653\"/>\n<polygon fill=\"#000000\" stroke=\"#000000\" points=\"841.581,-97.1288 851.159,-92.5998 840.8472,-90.1674 841.581,-97.1288\"/>\n</g>\n<!-- Q&#45;&gt;Z -->\n<g id=\"edge74\" class=\"edge\">\n<title>Q&#45;&gt;Z</title>\n<path fill=\"none\" stroke=\"#000000\" d=\"M496.9402,-513.5297C566.1432,-489.0451 766.5814,-418.1285 846.5147,-389.8474\"/>\n<polygon fill=\"#000000\" stroke=\"#000000\" points=\"847.83,-393.0947 856.0899,-386.4596 845.4951,-386.4956 847.83,-393.0947\"/>\n</g>\n<!-- Q&#45;&gt;V -->\n<g id=\"edge73\" class=\"edge\">\n<title>Q&#45;&gt;V</title>\n<path fill=\"none\" stroke=\"#000000\" d=\"M453.1427,-509.4586C434.916,-497.9469 407.7146,-480.7671 387.2311,-467.8302\"/>\n<polygon fill=\"#000000\" stroke=\"#000000\" points=\"388.9536,-464.7785 378.6297,-462.3977 385.2156,-470.6969 388.9536,-464.7785\"/>\n</g>\n<!-- Q&#45;&gt;U -->\n<g id=\"edge72\" class=\"edge\">\n<title>Q&#45;&gt;U</title>\n<path fill=\"none\" stroke=\"#000000\" d=\"M479.6786,-504.3095C491.9072,-473.2387 519.9825,-407.6449 556,-360 564.5463,-348.6947 575.2304,-337.2369 584.6873,-327.8017\"/>\n<polygon fill=\"#000000\" stroke=\"#000000\" points=\"587.2384,-330.2025 591.9443,-320.7101 582.346,-325.1961 587.2384,-330.2025\"/>\n</g>\n<!-- A&#45;&gt;K -->\n<g id=\"edge60\" class=\"edge\">\n<title>A&#45;&gt;K</title>\n<path fill=\"none\" stroke=\"#000000\" d=\"M754.3961,-576.3502C767.0356,-539.841 794,-453.1482 794,-378 794,-378 794,-378 794,-306 794,-262.0004 816.6861,-215.1212 832.9184,-187.2099\"/>\n<polygon fill=\"#000000\" stroke=\"#000000\" points=\"835.9977,-188.8803 838.1338,-178.5031 829.9925,-185.2833 835.9977,-188.8803\"/>\n</g>\n<!-- A&#45;&gt;N -->\n<g id=\"edge63\" class=\"edge\">\n<title>A&#45;&gt;N</title>\n<path fill=\"none\" stroke=\"#000000\" d=\"M769.4141,-582.9078C792.61,-570.8927 829.8227,-551.617 856.1653,-537.9719\"/>\n<polygon fill=\"#000000\" stroke=\"#000000\" points=\"858.0629,-540.9308 865.3325,-533.2234 854.8432,-534.7151 858.0629,-540.9308\"/>\n</g>\n<!-- A&#45;&gt;U -->\n<g id=\"edge62\" class=\"edge\">\n<title>A&#45;&gt;U</title>\n<path fill=\"none\" stroke=\"#000000\" d=\"M739.6616,-576.8468C716.1787,-528.539 649.3617,-391.0869 620.9933,-332.729\"/>\n<polygon fill=\"#000000\" stroke=\"#000000\" points=\"623.9915,-330.891 616.4717,-323.4275 617.6959,-333.9514 623.9915,-330.891\"/>\n</g>\n<!-- A&#45;&gt;S -->\n<g id=\"edge61\" class=\"edge\">\n<title>A&#45;&gt;S</title>\n<path fill=\"none\" stroke=\"#000000\" d=\"M774.2186,-589.5587C854.0451,-575.4482 1091.3265,-528.956 1135,-468 1144.3187,-454.9937 1136.1126,-447.9613 1135,-432 1132.3141,-393.4696 1093.9915,-132.7613 1081.1552,-46.0112\"/>\n<polygon fill=\"#000000\" stroke=\"#000000\" points=\"1084.6137,-45.4724 1079.6865,-36.093 1077.6892,-46.4979 1084.6137,-45.4724\"/>\n</g>\n<!-- B&#45;&gt;E -->\n<g id=\"edge36\" class=\"edge\">\n<title>B&#45;&gt;E</title>\n<path fill=\"none\" stroke=\"#000000\" d=\"M429.1184,-584.3813C391.8312,-567.2845 319.1953,-527.6938 290,-468 254.8519,-396.1348 250.5841,-357.616 290,-288 301.8816,-267.0149 325.5314,-253.2952 345.6064,-244.9374\"/>\n<polygon fill=\"#000000\" stroke=\"#000000\" points=\"347.0467,-248.1329 355.107,-241.2568 344.5179,-241.6056 347.0467,-248.1329\"/>\n</g>\n<!-- B&#45;&gt;N -->\n<g id=\"edge34\" class=\"edge\">\n<title>B&#45;&gt;N</title>\n<path fill=\"none\" stroke=\"#000000\" d=\"M478.2316,-589.6582C552.6436,-577.3417 765.2029,-542.1595 850.7165,-528.0056\"/>\n<polygon fill=\"#000000\" stroke=\"#000000\" points=\"851.44,-531.4335 860.7342,-526.3474 850.2969,-524.5275 851.44,-531.4335\"/>\n</g>\n<!-- B&#45;&gt;Q -->\n<g id=\"edge35\" class=\"edge\">\n<title>B&#45;&gt;Q</title>\n<path fill=\"none\" stroke=\"#000000\" d=\"M457.191,-576.2022C459.5384,-568.1541 462.3662,-558.4588 464.9772,-549.5067\"/>\n<polygon fill=\"#000000\" stroke=\"#000000\" points=\"468.3559,-550.4226 467.7959,-539.8425 461.6359,-548.4625 468.3559,-550.4226\"/>\n</g>\n</g>\n</svg>\n"
          },
          "metadata": {
            "tags": []
          },
          "execution_count": 3
        }
      ]
    },
    {
      "cell_type": "code",
      "metadata": {
        "colab": {
          "base_uri": "https://localhost:8080/"
        },
        "id": "mfEEn0xeOKqs",
        "outputId": "7ee53351-1c53-4f05-f75b-62b17f521770"
      },
      "source": [
        "# Need  data structure to hold all nodes\r\n",
        "# and for each node keep a list of its requirements\r\n",
        "# and whether those requirements have been satisifed\r\n",
        "# and\r\n",
        "\r\n",
        "nodes = {v:\r\n",
        "         {'State' : 'Unavailable',\r\n",
        "         'Required By': {}, \r\n",
        "          'Requires' : {}} for v in vertices}\r\n",
        "\r\n",
        "for v in from_directions:\r\n",
        "  nodes[v]['Required By'] = {x : False for x in from_directions[v]}\r\n",
        "  nodes[v]['State'] = 'Unavailable'\r\n",
        "\r\n",
        "for v in to_directions:\r\n",
        "  nodes[v]['Requires'] = {x for x in to_directions[v]}\r\n",
        "\r\n",
        "# Find a key that is not in the value (list) of any of the others\r\n",
        "initials = []\r\n",
        "for key in vertices:\r\n",
        "  if not key in from_directions:\r\n",
        "    initials.append(key)\r\n",
        "\r\n",
        "for initial in initials:\r\n",
        "  nodes[initial]['State'] = 'Available'\r\n",
        "\r\n",
        "for n in nodes:\r\n",
        "  print(n, nodes[n])"
      ],
      "execution_count": null,
      "outputs": [
        {
          "output_type": "stream",
          "text": [
            "K {'State': 'Unavailable', 'Required By': {'H': False, 'A': False, 'Z': False, 'G': False, 'W': False, 'U': False, 'J': False, 'E': False}, 'Requires': {'L'}}\n",
            "C {'State': 'Unavailable', 'Required By': {'I': False}, 'Requires': {'L', 'E', 'Z', 'O'}}\n",
            "E {'State': 'Unavailable', 'Required By': {'T': False, 'Z': False, 'N': False, 'U': False, 'V': False, 'P': False, 'C': False, 'B': False}, 'Requires': {'L', 'K'}}\n",
            "W {'State': 'Unavailable', 'Required By': {'D': False, 'T': False, 'F': False}, 'Requires': {'K', 'U', 'Q', 'Z'}}\n",
            "V {'State': 'Unavailable', 'Required By': {'Q': False, 'Y': False}, 'Requires': {'U', 'E', 'Z'}}\n",
            "A {'State': 'Unavailable', 'Required By': {'T': False, 'D': False, 'O': False, 'M': False}, 'Requires': {'N', 'K', 'U', 'S'}}\n",
            "P {'State': 'Unavailable', 'Required By': {'I': False, 'D': False}, 'Requires': {'L', 'S', 'E', 'Q', 'U'}}\n",
            "F {'State': 'Available', 'Required By': {}, 'Requires': {'R', 'Y', 'T', 'D', 'W'}}\n",
            "Z {'State': 'Unavailable', 'Required By': {'T': False, 'Q': False, 'V': False, 'W': False, 'G': False, 'C': False, 'O': False, 'N': False, 'X': False}, 'Requires': {'K', 'L', 'S', 'E', 'U'}}\n",
            "M {'State': 'Unavailable', 'Required By': {'I': False}, 'Requires': {'J', 'G', 'T', 'N', 'X', 'Q', 'A'}}\n",
            "I {'State': 'Available', 'Required By': {}, 'Requires': {'G', 'P', 'C', 'M'}}\n",
            "G {'State': 'Unavailable', 'Required By': {'N': False, 'J': False, 'I': False, 'Q': False, 'D': False, 'M': False}, 'Requires': {'K', 'L', 'S', 'Z', 'U'}}\n",
            "X {'State': 'Unavailable', 'Required By': {'M': False, 'H': False}, 'Requires': {'L', 'S', 'N', 'Z', 'U'}}\n",
            "D {'State': 'Unavailable', 'Required By': {'Y': False, 'F': False}, 'Requires': {'P', 'O', 'G', 'B', 'W', 'A'}}\n",
            "Q {'State': 'Unavailable', 'Required By': {'B': False, 'P': False, 'W': False, 'M': False}, 'Requires': {'L', 'G', 'Z', 'V', 'U'}}\n",
            "Y {'State': 'Unavailable', 'Required By': {'F': False}, 'Requires': {'N', 'D', 'V', 'U', 'O'}}\n",
            "U {'State': 'Unavailable', 'Required By': {'W': False, 'Q': False, 'V': False, 'Z': False, 'J': False, 'G': False, 'A': False, 'X': False, 'P': False, 'T': False, 'Y': False}, 'Requires': {'L', 'K', 'S', 'E'}}\n",
            "H {'State': 'Available', 'Required By': {}, 'Requires': {'K', 'X'}}\n",
            "R {'State': 'Unavailable', 'Required By': {'F': False}, 'Requires': {'L', 'J'}}\n",
            "J {'State': 'Unavailable', 'Required By': {'M': False, 'O': False, 'T': False, 'R': False}, 'Requires': {'K', 'G', 'U', 'S'}}\n",
            "L {'State': 'Unavailable', 'Required By': {'R': False, 'E': False, 'K': False, 'G': False, 'U': False, 'C': False, 'Q': False, 'Z': False, 'T': False, 'X': False, 'P': False}, 'Requires': {'S'}}\n",
            "S {'State': 'Unavailable', 'Required By': {'P': False, 'G': False, 'U': False, 'L': False, 'J': False, 'A': False, 'X': False, 'N': False, 'Z': False}, 'Requires': {}}\n",
            "T {'State': 'Unavailable', 'Required By': {'M': False, 'F': False}, 'Requires': {'J', 'L', 'E', 'Z', 'W', 'U', 'A'}}\n",
            "N {'State': 'Unavailable', 'Required By': {'Y': False, 'B': False, 'X': False, 'M': False, 'O': False, 'A': False}, 'Requires': {'G', 'S', 'E', 'Z'}}\n",
            "B {'State': 'Unavailable', 'Required By': {'D': False}, 'Requires': {'N', 'E', 'Q'}}\n",
            "O {'State': 'Unavailable', 'Required By': {'C': False, 'D': False, 'Y': False}, 'Requires': {'A', 'N', 'Z', 'J'}}\n"
          ],
          "name": "stdout"
        }
      ]
    },
    {
      "cell_type": "code",
      "metadata": {
        "colab": {
          "base_uri": "https://localhost:8080/"
        },
        "id": "reY48zduPDZj",
        "outputId": "c8a10b59-e529-47af-ebd7-24255a0258af"
      },
      "source": [
        "while(True):\r\n",
        "  available = sorted([x for x in nodes if nodes[x]['State'] == 'Available'])\r\n",
        "  \r\n",
        "  if len(available):\r\n",
        "    print(available[0], end ='')\r\n",
        "    # Mark as done\r\n",
        "    to_do = available[0]\r\n",
        "    nodes[to_do]['State'] = 'Done'\r\n",
        "\r\n",
        "    # Find nodes that require it, and mark requirement as satisfied\r\n",
        "    for n in nodes:\r\n",
        "      if to_do in nodes[n]['Required By']:\r\n",
        "        nodes[n]['Required By'][to_do] = True\r\n",
        "\r\n",
        "        # Now recompute availability\r\n",
        "        satisfied_count = 0\r\n",
        "        for k in nodes[n]['Required By']:\r\n",
        "          if nodes[n]['Required By'][k]:\r\n",
        "            satisfied_count += 1\r\n",
        "\r\n",
        "        if satisfied_count == len(nodes[n]['Required By']):\r\n",
        "          nodes[n]['State'] = 'Available'\r\n",
        "\r\n",
        "  else:\r\n",
        "    break\r\n"
      ],
      "execution_count": null,
      "outputs": [
        {
          "output_type": "stream",
          "text": [
            "FHICMRTXYDBOAJNPWQGVZUEKLS"
          ],
          "name": "stdout"
        }
      ]
    },
    {
      "cell_type": "markdown",
      "metadata": {
        "id": "CWK6Bqdg-rd3"
      },
      "source": [
        "## Part 2\r\n",
        "\r\n",
        "This sounds like a scheduling problem in a multiprocessor setting. Perhaps I could find an algorithm."
      ]
    },
    {
      "cell_type": "code",
      "metadata": {
        "colab": {
          "base_uri": "https://localhost:8080/"
        },
        "id": "WJBf5L3deAM_",
        "outputId": "4fd4ff5e-7498-4cb5-c447-a04bbbf06862"
      },
      "source": [
        "# Need  data structure to hold all nodes\r\n",
        "# and for each node keep a list of its requirements\r\n",
        "# and whether those requirements have been satisifed\r\n",
        "# and\r\n",
        "\r\n",
        "nodes = {v:\r\n",
        "         {'State' : 'Unavailable',\r\n",
        "         'Required By': {}, \r\n",
        "          'Requires' : {}} for v in vertices}\r\n",
        "\r\n",
        "for v in from_directions:\r\n",
        "  nodes[v]['Required By'] = {x : False for x in from_directions[v]}\r\n",
        "  nodes[v]['State'] = 'Unavailable'\r\n",
        "\r\n",
        "for v in to_directions:\r\n",
        "  nodes[v]['Requires'] = {x for x in to_directions[v]}\r\n",
        "\r\n",
        "# Find a key that is not in the value (list) of any of the others\r\n",
        "initials = []\r\n",
        "for key in vertices:\r\n",
        "  if not key in from_directions:\r\n",
        "    initials.append(key)\r\n",
        "\r\n",
        "for initial in initials:\r\n",
        "  nodes[initial]['State'] = 'Available'\r\n",
        "\r\n",
        "for n in nodes:\r\n",
        "  print(n, nodes[n])"
      ],
      "execution_count": null,
      "outputs": [
        {
          "output_type": "stream",
          "text": [
            "K {'State': 'Unavailable', 'Required By': {'H': False, 'A': False, 'Z': False, 'G': False, 'W': False, 'U': False, 'J': False, 'E': False}, 'Requires': {'L'}}\n",
            "C {'State': 'Unavailable', 'Required By': {'I': False}, 'Requires': {'L', 'E', 'Z', 'O'}}\n",
            "E {'State': 'Unavailable', 'Required By': {'T': False, 'Z': False, 'N': False, 'U': False, 'V': False, 'P': False, 'C': False, 'B': False}, 'Requires': {'L', 'K'}}\n",
            "W {'State': 'Unavailable', 'Required By': {'D': False, 'T': False, 'F': False}, 'Requires': {'K', 'U', 'Q', 'Z'}}\n",
            "V {'State': 'Unavailable', 'Required By': {'Q': False, 'Y': False}, 'Requires': {'U', 'E', 'Z'}}\n",
            "A {'State': 'Unavailable', 'Required By': {'T': False, 'D': False, 'O': False, 'M': False}, 'Requires': {'N', 'K', 'U', 'S'}}\n",
            "P {'State': 'Unavailable', 'Required By': {'I': False, 'D': False}, 'Requires': {'L', 'S', 'E', 'Q', 'U'}}\n",
            "F {'State': 'Available', 'Required By': {}, 'Requires': {'R', 'Y', 'T', 'D', 'W'}}\n",
            "Z {'State': 'Unavailable', 'Required By': {'T': False, 'Q': False, 'V': False, 'W': False, 'G': False, 'C': False, 'O': False, 'N': False, 'X': False}, 'Requires': {'K', 'L', 'S', 'E', 'U'}}\n",
            "M {'State': 'Unavailable', 'Required By': {'I': False}, 'Requires': {'J', 'G', 'T', 'N', 'X', 'Q', 'A'}}\n",
            "I {'State': 'Available', 'Required By': {}, 'Requires': {'G', 'P', 'C', 'M'}}\n",
            "G {'State': 'Unavailable', 'Required By': {'N': False, 'J': False, 'I': False, 'Q': False, 'D': False, 'M': False}, 'Requires': {'K', 'L', 'S', 'Z', 'U'}}\n",
            "X {'State': 'Unavailable', 'Required By': {'M': False, 'H': False}, 'Requires': {'L', 'S', 'N', 'Z', 'U'}}\n",
            "D {'State': 'Unavailable', 'Required By': {'Y': False, 'F': False}, 'Requires': {'P', 'O', 'G', 'B', 'W', 'A'}}\n",
            "Q {'State': 'Unavailable', 'Required By': {'B': False, 'P': False, 'W': False, 'M': False}, 'Requires': {'L', 'G', 'Z', 'V', 'U'}}\n",
            "Y {'State': 'Unavailable', 'Required By': {'F': False}, 'Requires': {'N', 'D', 'V', 'U', 'O'}}\n",
            "U {'State': 'Unavailable', 'Required By': {'W': False, 'Q': False, 'V': False, 'Z': False, 'J': False, 'G': False, 'A': False, 'X': False, 'P': False, 'T': False, 'Y': False}, 'Requires': {'L', 'K', 'S', 'E'}}\n",
            "H {'State': 'Available', 'Required By': {}, 'Requires': {'K', 'X'}}\n",
            "R {'State': 'Unavailable', 'Required By': {'F': False}, 'Requires': {'L', 'J'}}\n",
            "J {'State': 'Unavailable', 'Required By': {'M': False, 'O': False, 'T': False, 'R': False}, 'Requires': {'K', 'G', 'U', 'S'}}\n",
            "L {'State': 'Unavailable', 'Required By': {'R': False, 'E': False, 'K': False, 'G': False, 'U': False, 'C': False, 'Q': False, 'Z': False, 'T': False, 'X': False, 'P': False}, 'Requires': {'S'}}\n",
            "S {'State': 'Unavailable', 'Required By': {'P': False, 'G': False, 'U': False, 'L': False, 'J': False, 'A': False, 'X': False, 'N': False, 'Z': False}, 'Requires': {}}\n",
            "T {'State': 'Unavailable', 'Required By': {'M': False, 'F': False}, 'Requires': {'J', 'L', 'E', 'Z', 'W', 'U', 'A'}}\n",
            "N {'State': 'Unavailable', 'Required By': {'Y': False, 'B': False, 'X': False, 'M': False, 'O': False, 'A': False}, 'Requires': {'G', 'S', 'E', 'Z'}}\n",
            "B {'State': 'Unavailable', 'Required By': {'D': False}, 'Requires': {'N', 'E', 'Q'}}\n",
            "O {'State': 'Unavailable', 'Required By': {'C': False, 'D': False, 'Y': False}, 'Requires': {'A', 'N', 'Z', 'J'}}\n"
          ],
          "name": "stdout"
        }
      ]
    },
    {
      "cell_type": "code",
      "metadata": {
        "colab": {
          "base_uri": "https://localhost:8080/",
          "height": 35
        },
        "id": "jeWX8F6IeTwK",
        "outputId": "14084942-6e3e-444d-c7b1-5e8fefbb13d3"
      },
      "source": [
        "from string import ascii_uppercase\r\n",
        "additional_times = ascii_uppercase\r\n",
        "additional_times"
      ],
      "execution_count": null,
      "outputs": [
        {
          "output_type": "execute_result",
          "data": {
            "application/vnd.google.colaboratory.intrinsic+json": {
              "type": "string"
            },
            "text/plain": [
              "'ABCDEFGHIJKLMNOPQRSTUVWXYZ'"
            ]
          },
          "metadata": {
            "tags": []
          },
          "execution_count": 7
        }
      ]
    },
    {
      "cell_type": "code",
      "metadata": {
        "colab": {
          "base_uri": "https://localhost:8080/"
        },
        "id": "tac37gltfZNg",
        "outputId": "7cf36a69-2256-4165-8647-62ef9d7f35bc"
      },
      "source": [
        "workers = {i : {'State' : 'Idle', 'Assignment' : None, 'Counter' : 0} for i in range(5)}\r\n",
        "workers"
      ],
      "execution_count": null,
      "outputs": [
        {
          "output_type": "execute_result",
          "data": {
            "text/plain": [
              "{0: {'Assignment': None, 'Counter': 0, 'State': 'Idle'},\n",
              " 1: {'Assignment': None, 'Counter': 0, 'State': 'Idle'},\n",
              " 2: {'Assignment': None, 'Counter': 0, 'State': 'Idle'},\n",
              " 3: {'Assignment': None, 'Counter': 0, 'State': 'Idle'},\n",
              " 4: {'Assignment': None, 'Counter': 0, 'State': 'Idle'}}"
            ]
          },
          "metadata": {
            "tags": []
          },
          "execution_count": 8
        }
      ]
    },
    {
      "cell_type": "code",
      "metadata": {
        "colab": {
          "base_uri": "https://localhost:8080/"
        },
        "id": "7pLsk8vQeVND",
        "outputId": "c9161307-11b9-4239-e3c9-963c2cb351c0"
      },
      "source": [
        "time_counter = 0\r\n",
        "while(True):\r\n",
        "\r\n",
        "  done_counter = sum([1 for n in nodes if nodes[n]['State'] == 'Done'])\r\n",
        "  if done_counter == len(nodes):\r\n",
        "    break\r\n",
        "\r\n",
        "  time_counter += 1\r\n",
        "  # First, decrement counter if an assignment is claimed, release if counter == 0\r\n",
        "  for worker in workers:\r\n",
        "    if workers[worker]['State'] == 'Busy':\r\n",
        "      workers[worker]['Counter'] -= 1\r\n",
        "      if workers[worker]['Counter'] == 0:\r\n",
        "        workers[worker]['Counter'] = 0\r\n",
        "        workers[worker]['State'] = 'Idle'\r\n",
        "        assigned_step =  workers[worker]['Assignment']\r\n",
        "        workers[worker]['Assignment'] = None\r\n",
        "        nodes[assigned_step]['State'] = 'Done'\r\n",
        "\r\n",
        "\r\n",
        "        # Find nodes that require the newly done step, and mark their requirement for this step as satisfied\r\n",
        "        for n in nodes:\r\n",
        "          if assigned_step in nodes[n]['Required By']:\r\n",
        "            nodes[n]['Required By'][assigned_step] = True\r\n",
        "\r\n",
        "            # Now recompute availability\r\n",
        "            satisfied_count = 0\r\n",
        "            for k in nodes[n]['Required By']:\r\n",
        "              if nodes[n]['Required By'][k]:\r\n",
        "                satisfied_count += 1\r\n",
        "\r\n",
        "            if satisfied_count == len(nodes[n]['Required By']):\r\n",
        "              nodes[n]['State'] = 'Available'\r\n",
        "\r\n",
        "\r\n",
        "  # Next if new assignments need to be done\r\n",
        "  available = sorted([x for x in nodes if nodes[x]['State'] == 'Available'])\r\n",
        "  #print('available', available)\r\n",
        "\r\n",
        "  available_workers = [x for x in workers if workers[x]['State'] == 'Idle']\r\n",
        "  #print('available_workers', num_available_workers, available_workers)\r\n",
        "\r\n",
        "  for step, worker in zip(available, available_workers): # zip returns an iterator of the same size as the shorter iterable\r\n",
        "    counter = 60 + additional_times.index(step) + 1\r\n",
        "    #print('step', step, 'requires', counter, 'seconds. To be assigned to worker', worker)\r\n",
        "\r\n",
        "    # Assign to worker\r\n",
        "    workers[worker]['Assignment'] = step\r\n",
        "    workers[worker]['Counter'] = counter\r\n",
        "    workers[worker]['State'] = 'Busy'\r\n",
        "\r\n",
        "    # Mark the step as Claimed\r\n",
        "    nodes[step]['State'] = 'Claimed'\r\n",
        "\r\n",
        "time_counter - 1 # Off by one, no surprises given how messy this all is"
      ],
      "execution_count": null,
      "outputs": [
        {
          "output_type": "execute_result",
          "data": {
            "text/plain": [
              "946"
            ]
          },
          "metadata": {
            "tags": []
          },
          "execution_count": 9
        }
      ]
    },
    {
      "cell_type": "code",
      "metadata": {
        "colab": {
          "base_uri": "https://localhost:8080/"
        },
        "id": "AkeBhH9bPemg",
        "outputId": "5c946031-6060-499f-894f-5d1b60cf5b5d"
      },
      "source": [
        "for n in nodes:\r\n",
        "  print(n, nodes[n])"
      ],
      "execution_count": null,
      "outputs": [
        {
          "output_type": "stream",
          "text": [
            "K {'State': 'Done', 'Required By': {'H': True, 'A': True, 'Z': True, 'G': True, 'W': True, 'U': True, 'J': True, 'E': True}, 'Requires': {'L'}}\n",
            "C {'State': 'Done', 'Required By': {'I': True}, 'Requires': {'L', 'E', 'Z', 'O'}}\n",
            "E {'State': 'Done', 'Required By': {'T': True, 'Z': True, 'N': True, 'U': True, 'V': True, 'P': True, 'C': True, 'B': True}, 'Requires': {'L', 'K'}}\n",
            "W {'State': 'Done', 'Required By': {'D': True, 'T': True, 'F': True}, 'Requires': {'K', 'U', 'Q', 'Z'}}\n",
            "V {'State': 'Done', 'Required By': {'Q': True, 'Y': True}, 'Requires': {'U', 'E', 'Z'}}\n",
            "A {'State': 'Done', 'Required By': {'T': True, 'D': True, 'O': True, 'M': True}, 'Requires': {'N', 'K', 'U', 'S'}}\n",
            "P {'State': 'Done', 'Required By': {'I': True, 'D': True}, 'Requires': {'L', 'S', 'E', 'Q', 'U'}}\n",
            "F {'State': 'Done', 'Required By': {}, 'Requires': {'R', 'Y', 'T', 'D', 'W'}}\n",
            "Z {'State': 'Done', 'Required By': {'T': True, 'Q': True, 'V': True, 'W': True, 'G': True, 'C': True, 'O': True, 'N': True, 'X': True}, 'Requires': {'K', 'L', 'S', 'E', 'U'}}\n",
            "M {'State': 'Done', 'Required By': {'I': True}, 'Requires': {'J', 'G', 'T', 'N', 'X', 'Q', 'A'}}\n",
            "I {'State': 'Done', 'Required By': {}, 'Requires': {'G', 'P', 'C', 'M'}}\n",
            "G {'State': 'Done', 'Required By': {'N': True, 'J': True, 'I': True, 'Q': True, 'D': True, 'M': True}, 'Requires': {'K', 'L', 'S', 'Z', 'U'}}\n",
            "X {'State': 'Done', 'Required By': {'M': True, 'H': True}, 'Requires': {'L', 'S', 'N', 'Z', 'U'}}\n",
            "D {'State': 'Done', 'Required By': {'Y': True, 'F': True}, 'Requires': {'P', 'O', 'G', 'B', 'W', 'A'}}\n",
            "Q {'State': 'Done', 'Required By': {'B': True, 'P': True, 'W': True, 'M': True}, 'Requires': {'L', 'G', 'Z', 'V', 'U'}}\n",
            "Y {'State': 'Done', 'Required By': {'F': True}, 'Requires': {'N', 'D', 'V', 'U', 'O'}}\n",
            "U {'State': 'Done', 'Required By': {'W': True, 'Q': True, 'V': True, 'Z': True, 'J': True, 'G': True, 'A': True, 'X': True, 'P': True, 'T': True, 'Y': True}, 'Requires': {'L', 'K', 'S', 'E'}}\n",
            "H {'State': 'Done', 'Required By': {}, 'Requires': {'K', 'X'}}\n",
            "R {'State': 'Done', 'Required By': {'F': True}, 'Requires': {'L', 'J'}}\n",
            "J {'State': 'Done', 'Required By': {'M': True, 'O': True, 'T': True, 'R': True}, 'Requires': {'K', 'G', 'U', 'S'}}\n",
            "L {'State': 'Done', 'Required By': {'R': True, 'E': True, 'K': True, 'G': True, 'U': True, 'C': True, 'Q': True, 'Z': True, 'T': True, 'X': True, 'P': True}, 'Requires': {'S'}}\n",
            "S {'State': 'Done', 'Required By': {'P': True, 'G': True, 'U': True, 'L': True, 'J': True, 'A': True, 'X': True, 'N': True, 'Z': True}, 'Requires': {}}\n",
            "T {'State': 'Done', 'Required By': {'M': True, 'F': True}, 'Requires': {'J', 'L', 'E', 'Z', 'W', 'U', 'A'}}\n",
            "N {'State': 'Done', 'Required By': {'Y': True, 'B': True, 'X': True, 'M': True, 'O': True, 'A': True}, 'Requires': {'G', 'S', 'E', 'Z'}}\n",
            "B {'State': 'Done', 'Required By': {'D': True}, 'Requires': {'N', 'E', 'Q'}}\n",
            "O {'State': 'Done', 'Required By': {'C': True, 'D': True, 'Y': True}, 'Requires': {'A', 'N', 'Z', 'J'}}\n"
          ],
          "name": "stdout"
        }
      ]
    }
  ]
}