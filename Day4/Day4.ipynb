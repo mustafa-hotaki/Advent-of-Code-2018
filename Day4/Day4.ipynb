{
  "nbformat": 4,
  "nbformat_minor": 0,
  "metadata": {
    "colab": {
      "name": "Day4.ipynb",
      "provenance": [],
      "collapsed_sections": [],
      "toc_visible": true
    },
    "kernelspec": {
      "name": "python3",
      "display_name": "Python 3"
    }
  },
  "cells": [
    {
      "cell_type": "markdown",
      "metadata": {
        "id": "Pcti5h5XqWtG"
      },
      "source": [
        "# Advent of Code 2018 - Day 4"
      ]
    },
    {
      "cell_type": "code",
      "metadata": {
        "id": "KVgfAqLMqWz7",
        "colab": {
          "base_uri": "https://localhost:8080/"
        },
        "outputId": "6fc2dc3f-2118-4586-cdb2-0242a94595b4"
      },
      "source": [
        "data = []\r\n",
        "with open('inputs_day_4.txt', 'r') as f:\r\n",
        "  for line in f:\r\n",
        "    data.append(line.strip())\r\n",
        "\r\n",
        "data[:10]"
      ],
      "execution_count": 1,
      "outputs": [
        {
          "output_type": "execute_result",
          "data": {
            "text/plain": [
              "['[1518-04-21 00:57] wakes up',\n",
              " '[1518-09-03 00:12] falls asleep',\n",
              " '[1518-04-21 00:04] Guard #3331 begins shift',\n",
              " '[1518-10-29 00:51] falls asleep',\n",
              " '[1518-06-12 00:02] Guard #3109 begins shift',\n",
              " '[1518-06-01 00:46] wakes up',\n",
              " '[1518-03-07 00:02] Guard #653 begins shift',\n",
              " '[1518-10-06 00:00] Guard #2339 begins shift',\n",
              " '[1518-05-20 00:47] wakes up',\n",
              " '[1518-10-08 00:58] wakes up']"
            ]
          },
          "metadata": {
            "tags": []
          },
          "execution_count": 1
        }
      ]
    },
    {
      "cell_type": "code",
      "metadata": {
        "colab": {
          "base_uri": "https://localhost:8080/"
        },
        "id": "BGKo7d1_tV-g",
        "outputId": "65b71e6e-0432-4d3c-93da-77411afc6b56"
      },
      "source": [
        "import datetime\r\n",
        "\r\n",
        "Guards = {}\r\n",
        "time_stamps = []\r\n",
        "\r\n",
        "for line in data:\r\n",
        "  dt = line[line.find('[') + 1 : line.find(']')]\r\n",
        "  datetime_object = datetime.datetime.strptime(dt, '%Y-%m-%d %H:%M')\r\n",
        "  action = line[line.find(']') + 2 : ]\r\n",
        "  time_stamps += [(datetime_object, action)]\r\n",
        "\r\n",
        "time_stamps = sorted(time_stamps, key = lambda x : x[0])\r\n",
        "time_stamps[:10]"
      ],
      "execution_count": 2,
      "outputs": [
        {
          "output_type": "execute_result",
          "data": {
            "text/plain": [
              "[(datetime.datetime(1518, 2, 28, 23, 56), 'Guard #971 begins shift'),\n",
              " (datetime.datetime(1518, 3, 1, 0, 15), 'falls asleep'),\n",
              " (datetime.datetime(1518, 3, 1, 0, 54), 'wakes up'),\n",
              " (datetime.datetime(1518, 3, 2, 0, 2), 'Guard #3079 begins shift'),\n",
              " (datetime.datetime(1518, 3, 2, 0, 8), 'falls asleep'),\n",
              " (datetime.datetime(1518, 3, 2, 0, 48), 'wakes up'),\n",
              " (datetime.datetime(1518, 3, 2, 0, 51), 'falls asleep'),\n",
              " (datetime.datetime(1518, 3, 2, 0, 52), 'wakes up'),\n",
              " (datetime.datetime(1518, 3, 2, 23, 58), 'Guard #653 begins shift'),\n",
              " (datetime.datetime(1518, 3, 3, 0, 35), 'falls asleep')]"
            ]
          },
          "metadata": {
            "tags": []
          },
          "execution_count": 2
        }
      ]
    },
    {
      "cell_type": "markdown",
      "metadata": {
        "id": "-rRpyAW8fDXX"
      },
      "source": [
        "## Part 1"
      ]
    },
    {
      "cell_type": "code",
      "metadata": {
        "id": "neXfU2GamN3V"
      },
      "source": [
        "guard_number = None\r\n",
        "for i, time_stamp in enumerate(time_stamps):\r\n",
        "\r\n",
        "  dt = time_stamp[0]\r\n",
        "  action = time_stamp[1]\r\n",
        "\r\n",
        "  if 'begins shift' in action:\r\n",
        "    guard_number = int(action[action.find('#') + 1: action.find('begins')])\r\n",
        "\r\n",
        "  # Figure out how long this action will last\r\n",
        "  duration = 0\r\n",
        "  if i + 1 < len(time_stamps): # Only if there is a next\r\n",
        "    duration = int((time_stamps[i + 1][0] - time_stamps[i][0]).total_seconds() / 60)\r\n",
        "\r\n",
        "  # If started to sleep\r\n",
        "  if action == 'falls asleep':\r\n",
        "    for t in range(dt.minute, dt.minute + duration):\r\n",
        "      if guard_number in Guards:\r\n",
        "        Guards[guard_number][t % 60] += 1\r\n",
        "      else:\r\n",
        "        Guards[guard_number] = [0] * 60\r\n",
        "        Guards[guard_number][t % 60] += 1\r\n"
      ],
      "execution_count": 3,
      "outputs": []
    },
    {
      "cell_type": "markdown",
      "metadata": {
        "id": "4zj7Nsudxzx2"
      },
      "source": [
        "Strategy 1: Find the guard that has the most minutes asleep. What minute does that guard spend asleep the most?\r\n",
        "\r\n"
      ]
    },
    {
      "cell_type": "code",
      "metadata": {
        "colab": {
          "base_uri": "https://localhost:8080/"
        },
        "id": "2LESqQ9SqCv3",
        "outputId": "643104f9-e395-4ae4-88b0-349cbb31649e"
      },
      "source": [
        "sleepiest_guard = max(Guards.keys(), key = lambda x: sum(Guards[x]))\r\n",
        "sleepiest_minute = Guards[sleepiest_guard].index(max(Guards[sleepiest_guard]))\r\n",
        "sleepiest_guard, sleepiest_minute, sleepiest_guard * sleepiest_minute"
      ],
      "execution_count": 4,
      "outputs": [
        {
          "output_type": "execute_result",
          "data": {
            "text/plain": [
              "(971, 38, 36898)"
            ]
          },
          "metadata": {
            "tags": []
          },
          "execution_count": 4
        }
      ]
    },
    {
      "cell_type": "markdown",
      "metadata": {
        "id": "edSmgNV-vg6K"
      },
      "source": [
        "## Part 2\r\n",
        "\r\n",
        "Strategy 2: Of all guards, which guard is most frequently asleep on the same minute?"
      ]
    },
    {
      "cell_type": "code",
      "metadata": {
        "colab": {
          "base_uri": "https://localhost:8080/"
        },
        "id": "Dn8V6LImvhm0",
        "outputId": "e0d169ee-3b98-4f41-d8ec-8bf66d057bd3"
      },
      "source": [
        "# Approach: find most-frequently-slept-on minutes for all guards\r\n",
        "guard, sleepy_minute = max([(g, Guards[g].index(max(Guards[g]))) for g in Guards], key = lambda x : x[1])\r\n",
        "guard, sleepy_minute, guard * sleepy_minute"
      ],
      "execution_count": 5,
      "outputs": [
        {
          "output_type": "execute_result",
          "data": {
            "text/plain": [
              "(1877, 43, 80711)"
            ]
          },
          "metadata": {
            "tags": []
          },
          "execution_count": 5
        }
      ]
    },
    {
      "cell_type": "code",
      "metadata": {
        "id": "3QrbBkKSzJ74"
      },
      "source": [
        ""
      ],
      "execution_count": 5,
      "outputs": []
    }
  ]
}