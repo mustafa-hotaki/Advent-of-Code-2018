{
  "nbformat": 4,
  "nbformat_minor": 0,
  "metadata": {
    "colab": {
      "name": "Day3.ipynb",
      "provenance": [],
      "collapsed_sections": [],
      "toc_visible": true
    },
    "kernelspec": {
      "name": "python3",
      "display_name": "Python 3"
    }
  },
  "cells": [
    {
      "cell_type": "markdown",
      "metadata": {
        "id": "Pcti5h5XqWtG"
      },
      "source": [
        "# Advent of Code 2018 - Day 3"
      ]
    },
    {
      "cell_type": "code",
      "metadata": {
        "id": "KVgfAqLMqWz7",
        "colab": {
          "base_uri": "https://localhost:8080/"
        },
        "outputId": "ec2dd6d6-9618-40b9-f429-c4ed84bada90"
      },
      "source": [
        "data = []\r\n",
        "with open('inputs_day_3.txt', 'r') as f:\r\n",
        "  for line in f:\r\n",
        "    data.append(line.strip())\r\n",
        "\r\n",
        "data[:5]"
      ],
      "execution_count": 1,
      "outputs": [
        {
          "output_type": "execute_result",
          "data": {
            "text/plain": [
              "['#1 @ 167,777: 23x12',\n",
              " '#2 @ 253,106: 10x25',\n",
              " '#3 @ 104,622: 11x25',\n",
              " '#4 @ 267,61: 14x16',\n",
              " '#5 @ 829,831: 19x10']"
            ]
          },
          "metadata": {
            "tags": []
          },
          "execution_count": 1
        }
      ]
    },
    {
      "cell_type": "code",
      "metadata": {
        "colab": {
          "base_uri": "https://localhost:8080/"
        },
        "id": "xpXL9A6i52mM",
        "outputId": "918baadb-0e3c-4be0-e40d-1fc2ec889cc3"
      },
      "source": [
        "# Parse\r\n",
        "claims = []\r\n",
        "for line in data:\r\n",
        "\r\n",
        "  id = int(line[line.find('#') + 1 : line.find(' @')])\r\n",
        "  loc = [int(x) for x in line[line.find('@') + 2 : line.find(':')].split(',')]\r\n",
        "  size = [int(x) for x in line[line.find(':') + 2: ].split('x')]\r\n",
        "  claims.append((id, tuple(loc), tuple(size)))\r\n",
        "\r\n",
        "claims[:10]"
      ],
      "execution_count": 2,
      "outputs": [
        {
          "output_type": "execute_result",
          "data": {
            "text/plain": [
              "[(1, (167, 777), (23, 12)),\n",
              " (2, (253, 106), (10, 25)),\n",
              " (3, (104, 622), (11, 25)),\n",
              " (4, (267, 61), (14, 16)),\n",
              " (5, (829, 831), (19, 10)),\n",
              " (6, (886, 374), (22, 12)),\n",
              " (7, (129, 812), (18, 17)),\n",
              " (8, (972, 677), (14, 17)),\n",
              " (9, (123, 249), (12, 14)),\n",
              " (10, (669, 330), (11, 21))]"
            ]
          },
          "metadata": {
            "tags": []
          },
          "execution_count": 2
        }
      ]
    },
    {
      "cell_type": "markdown",
      "metadata": {
        "id": "4KncFR_tBMjL"
      },
      "source": [
        "## Part 1\r\n",
        "\r\n",
        "Lazy solution: just make the darn grid and keep count. The description says that the whole piece of fabric is at least $1000$ inches, but it seems that no rectangle is defined outside the a $1000 \\times 1000$ fabric with its top corner at $(0, 0)$.\r\n",
        "\r\n",
        "I have hard-coded the grid size, but it can be easily deduced by finding the rectangle farthest bottom corner from the origin (or something along those lines).\r\n",
        "\r\n",
        "Many optimizations can be made, but an easy one is use a hashmap instead of grid. This way we only worry about points inside the rectangles."
      ]
    },
    {
      "cell_type": "code",
      "metadata": {
        "id": "rCmYHyDdCiq6",
        "colab": {
          "base_uri": "https://localhost:8080/"
        },
        "outputId": "37b73537-1aa2-4d1c-8813-5970ee10b711"
      },
      "source": [
        "size = 1000\r\n",
        "grid = [[0] * size for i in range(size)]\r\n",
        "\r\n",
        "#print(*grid, sep='\\n')\r\n",
        "\r\n",
        "for claim in claims:\r\n",
        "  column, row = claim[1]\r\n",
        "  width, height = claim[2]\r\n",
        "\r\n",
        "  for i in range(row, row + height):\r\n",
        "    for j in range(column, column + width):\r\n",
        "      grid[i][j] += 1\r\n",
        "\r\n",
        "  #print(*grid, sep='\\n')\r\n",
        "  #print()\r\n",
        "\r\n",
        "\r\n",
        "sum([sum([x >= 2 for x in row]) for row in grid])"
      ],
      "execution_count": 3,
      "outputs": [
        {
          "output_type": "execute_result",
          "data": {
            "text/plain": [
              "111935"
            ]
          },
          "metadata": {
            "tags": []
          },
          "execution_count": 3
        }
      ]
    },
    {
      "cell_type": "markdown",
      "metadata": {
        "id": "_jkVJBXxZcf0"
      },
      "source": [
        "## Part 2\r\n",
        "\r\n",
        "Lazy solution using Part 1: Start with the grid from the end of Part 1, go over all claims again. If a claim corresponds to a rectangle of all $1$'s, it is the rectangle that does not overlap with any other."
      ]
    },
    {
      "cell_type": "code",
      "metadata": {
        "colab": {
          "base_uri": "https://localhost:8080/"
        },
        "id": "dG0OqNtLI4h2",
        "outputId": "a0953ca3-f486-4bf9-8dd1-bf3ef942a67a"
      },
      "source": [
        "for claim in claims:\r\n",
        "  column, row = claim[1]\r\n",
        "  width, height = claim[2]\r\n",
        "\r\n",
        "  intact = True\r\n",
        "  for i in range(row, row + height):\r\n",
        "    for j in range(column, column + width):\r\n",
        "      if grid[i][j] != 1:\r\n",
        "        intact = False\r\n",
        "        break\r\n",
        "\r\n",
        "  if intact:\r\n",
        "    print(claim)\r\n",
        "    break\r\n",
        "  "
      ],
      "execution_count": 4,
      "outputs": [
        {
          "output_type": "stream",
          "text": [
            "(650, (830, 151), (25, 21))\n"
          ],
          "name": "stdout"
        }
      ]
    },
    {
      "cell_type": "markdown",
      "metadata": {
        "id": "dGNp4z-lI59n"
      },
      "source": [
        "A more general solution: Find the rectangle that does not overlap with any of the others without drawing the grid."
      ]
    },
    {
      "cell_type": "code",
      "metadata": {
        "colab": {
          "base_uri": "https://localhost:8080/"
        },
        "id": "J3C0USSg7Xhf",
        "outputId": "ee7934ab-240b-4d4e-bec5-6f7d0c69e583"
      },
      "source": [
        "def overlap(l1, r1, l2, r2): \r\n",
        "      \r\n",
        "    # If one rectangle is on left side of other \r\n",
        "    if(l1[0] >= r2[0] or l2[0] >= r1[0]):\r\n",
        "      return False\r\n",
        "  \r\n",
        "    # If one rectangle is above other (modified condition: since up is down)\r\n",
        "    if(l1[1] >= r2[1] or l2[1] >= r1[1]): \r\n",
        "      return False\r\n",
        "  \r\n",
        "    return True\r\n",
        "\r\n",
        "overlap((1, 3), (5, 7), (3, 1), (7, 5))"
      ],
      "execution_count": 5,
      "outputs": [
        {
          "output_type": "execute_result",
          "data": {
            "text/plain": [
              "True"
            ]
          },
          "metadata": {
            "tags": []
          },
          "execution_count": 5
        }
      ]
    },
    {
      "cell_type": "markdown",
      "metadata": {
        "id": "fv1VdzAO9I5S"
      },
      "source": [
        "The obvious code ([slightly modified from GeeksforGeeks](https://www.geeksforgeeks.org/find-two-rectangles-overlap/)) defines a rectangle by top left and bottom right points. All rectangles will need to be expressed in this form.\r\n",
        "\r\n",
        "l1: Top Left coordinate of first rectangle.\\\r\n",
        "r1: Bottom Right coordinate of first rectangle.\\\r\n",
        "l2: Top Left coordinate of second rectangle.\\\r\n",
        "r2: Bottom Right coordinate of second rectangle.\r\n",
        "\r\n",
        "In our input, the first coorindate of a rectangel is given, and we can find the second by simple addition.\r\n",
        "\r\n"
      ]
    },
    {
      "cell_type": "code",
      "metadata": {
        "colab": {
          "base_uri": "https://localhost:8080/"
        },
        "id": "jZUAmqut9IY9",
        "outputId": "3c8839e1-7ff9-4e47-863c-dd686465754f"
      },
      "source": [
        "for a in claims:\r\n",
        "  l1 = a[1]\r\n",
        "  r1 = (a[2][0] + l1[0], a[2][1] + l1[1])\r\n",
        "\r\n",
        "  overlap_counter = 0\r\n",
        "  for b in claims:\r\n",
        "    if a != b:\r\n",
        "      l2 = b[1]\r\n",
        "      r2 = (b[2][0] + l2[0], b[2][1] + l2[1])\r\n",
        "      overlap_counter += overlap(l1, r1, l2, r2) # Can actually break if overlap_counter == 1 after increment since 1 is enough to disqualify\r\n",
        "\r\n",
        "  if overlap_counter == 0:\r\n",
        "    print(a)\r\n",
        "    break # Since we are told, only one exists\r\n"
      ],
      "execution_count": 6,
      "outputs": [
        {
          "output_type": "stream",
          "text": [
            "(650, (830, 151), (25, 21))\n"
          ],
          "name": "stdout"
        }
      ]
    },
    {
      "cell_type": "code",
      "metadata": {
        "id": "ob3J7Zsxb5bp"
      },
      "source": [
        ""
      ],
      "execution_count": 6,
      "outputs": []
    }
  ]
}