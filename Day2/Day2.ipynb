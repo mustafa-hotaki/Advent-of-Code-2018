{
  "nbformat": 4,
  "nbformat_minor": 0,
  "metadata": {
    "colab": {
      "name": "Day2.ipynb",
      "provenance": [],
      "collapsed_sections": [],
      "toc_visible": true
    },
    "kernelspec": {
      "name": "python3",
      "display_name": "Python 3"
    }
  },
  "cells": [
    {
      "cell_type": "markdown",
      "metadata": {
        "id": "Pcti5h5XqWtG"
      },
      "source": [
        "# Advent of Code 2018 - Day 2"
      ]
    },
    {
      "cell_type": "code",
      "metadata": {
        "id": "KVgfAqLMqWz7",
        "colab": {
          "base_uri": "https://localhost:8080/"
        },
        "outputId": "641036d7-e698-4fc1-ea75-0225bf51544d"
      },
      "source": [
        "data = []\r\n",
        "with open('inputs_day_2.txt', 'r') as f:\r\n",
        "  for line in f:\r\n",
        "    data.append(line.strip())\r\n",
        "\r\n",
        "data[:5]"
      ],
      "execution_count": 12,
      "outputs": [
        {
          "output_type": "execute_result",
          "data": {
            "text/plain": [
              "['rmyxgdlihczskunpfwbgqoeybv',\n",
              " 'rmyxgdlksczskunpfwbjqkeatv',\n",
              " 'rmybgdxibczskunpfwbjqoeatv',\n",
              " 'rmyxgdlirczskuopfwbjqzeatv',\n",
              " 'rmyxedlrhczskunpfwbyqoeatv']"
            ]
          },
          "metadata": {
            "tags": []
          },
          "execution_count": 12
        }
      ]
    },
    {
      "cell_type": "markdown",
      "metadata": {
        "id": "_jkVJBXxZcf0"
      },
      "source": [
        "## Part 1"
      ]
    },
    {
      "cell_type": "code",
      "metadata": {
        "colab": {
          "base_uri": "https://localhost:8080/"
        },
        "id": "dAPEFXB-Zdhm",
        "outputId": "9a15fb96-16c0-43b1-9254-479f6d1cf286"
      },
      "source": [
        "from collections import Counter\r\n",
        "\r\n",
        "two_times = 0\r\n",
        "three_times = 0\r\n",
        "for line in data:\r\n",
        "  c = Counter(line)\r\n",
        "  two_times += any([c[x] == 2 for x in c])\r\n",
        "  three_times += any([c[x] == 3 for x in c])\r\n",
        "\r\n",
        "two_times * three_times"
      ],
      "execution_count": 13,
      "outputs": [
        {
          "output_type": "execute_result",
          "data": {
            "text/plain": [
              "6370"
            ]
          },
          "metadata": {
            "tags": []
          },
          "execution_count": 13
        }
      ]
    },
    {
      "cell_type": "markdown",
      "metadata": {
        "id": "HQXffUuyZdoE"
      },
      "source": [
        "## Part 2\r\n",
        "\r\n",
        "This just sounds like the defintion of a [Hamming Distance](https://en.wikipedia.org/wiki/Hamming_distance)."
      ]
    },
    {
      "cell_type": "code",
      "metadata": {
        "id": "g2mwym0mbh2S"
      },
      "source": [
        "# Wikipedia provides an implementation (trivial)\r\n",
        "def hamming_distance(string1, string2):\r\n",
        "\tdist_counter = 0\r\n",
        "\tfor n in range(len(string1)):\r\n",
        "\t\tif string1[n] != string2[n]:\r\n",
        "\t\t\tdist_counter += 1\r\n",
        "\treturn dist_counter"
      ],
      "execution_count": 14,
      "outputs": []
    },
    {
      "cell_type": "code",
      "metadata": {
        "colab": {
          "base_uri": "https://localhost:8080/"
        },
        "id": "om62l41Qbulz",
        "outputId": "c091332a-0735-48cf-b0c8-9ea80c7c0025"
      },
      "source": [
        "from itertools import combinations # Cleaner than using nested loops\r\n",
        "\r\n",
        "combs = combinations(data, 2)\r\n",
        "\r\n",
        "for c in combs:\r\n",
        "  if hamming_distance(*c) == 1:\r\n",
        "    print('Correct Pair:', c)\r\n",
        "    most_common = ''.join([x[0] for x in zip(*c) if x[0] == x[1]])\r\n",
        "    print('Most common letters:', most_common)\r\n",
        "    break # Assume only one such answer exists (True for our input)\r\n"
      ],
      "execution_count": 23,
      "outputs": [
        {
          "output_type": "stream",
          "text": [
            "Correct Pair: ('rmyxgdlihczskunpfiyjqcebtv', 'rmyxgdlihczskunpfibjqcebtv')\n",
            "Most common letters: rmyxgdlihczskunpfijqcebtv\n"
          ],
          "name": "stdout"
        }
      ]
    },
    {
      "cell_type": "code",
      "metadata": {
        "id": "ob3J7Zsxb5bp"
      },
      "source": [
        ""
      ],
      "execution_count": null,
      "outputs": []
    }
  ]
}